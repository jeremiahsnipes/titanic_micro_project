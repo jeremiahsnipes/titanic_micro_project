{
 "cells": [
  {
   "cell_type": "markdown",
   "id": "7904c41f-f165-4eef-8804-1cc9b9108305",
   "metadata": {},
   "source": [
    "# Micro-Project 4: Machine Learning Project 2 of 2\n",
    "\n",
    "Student Name: Jeremiah Snipes\n",
    "\n",
    "Python Version: 3.13.5+\n",
    "\n",
    "Jupyter Notebook Version: 7.3.2 or later\n",
    "\n",
    "Date: 08/31/2025"
   ]
  },
  {
   "cell_type": "markdown",
   "id": "00f6c5c7-2f22-403c-bb5e-d67eaf462ec7",
   "metadata": {
    "jp-MarkdownHeadingCollapsed": true
   },
   "source": [
    "#  Import Required Packages"
   ]
  },
  {
   "cell_type": "code",
   "execution_count": 268,
   "id": "e93c2011-3471-4b57-8ea3-9fbd3518b03d",
   "metadata": {},
   "outputs": [],
   "source": [
    "import pandas as pd\n",
    "import numpy as np\n",
    "from pathlib import Path\n",
    "from sklearn.preprocessing import StandardScaler\n",
    "from sklearn.decomposition import PCA\n",
    "from sklearn.cluster import KMeans\n",
    "from sklearn.metrics import silhouette_score\n",
    "import matplotlib.pyplot as plt\n",
    "import seaborn as sns\n",
    "\n",
    "from sklearn.pipeline import Pipeline\n",
    "from sklearn.preprocessing import StandardScaler\n",
    "from sklearn.linear_model import LinearRegression\n",
    "from sklearn.metrics import mean_absolute_error, mean_squared_error, r2_score\n",
    "\n",
    "from sklearn.linear_model import LogisticRegression\n",
    "from sklearn.pipeline import Pipeline\n",
    "from sklearn.preprocessing import StandardScaler\n",
    "from sklearn.metrics import accuracy_score, classification_report\n",
    "from sklearn.model_selection import train_test_split\n",
    "from sklearn.svm import SVC\n",
    "from sklearn.metrics import accuracy_score, classification_report\n",
    "from sklearn.svm import SVR\n",
    "import plotly.figure_factory as ff\n",
    "\n",
    "import numpy as np, pandas as pd, matplotlib.pyplot as plt\n",
    "from sklearn.model_selection import train_test_split\n",
    "from sklearn.preprocessing import StandardScaler\n",
    "from sklearn.metrics import accuracy_score, precision_recall_fscore_support, roc_auc_score, confusion_matrix, ConfusionMatrixDisplay\n",
    "from sklearn.impute import SimpleImputer\n",
    "from sklearn.compose import ColumnTransformer\n",
    "from sklearn.pipeline import Pipeline\n",
    "from sklearn.preprocessing import OneHotEncoder\n",
    "import tensorflow as tf\n",
    "from tensorflow import keras\n",
    "from tensorflow.keras import layers, callbacks\n",
    "\n",
    "import pandas as pd\n",
    "import numpy as np\n",
    "import matplotlib.pyplot as plt\n",
    "from sklearn.model_selection import train_test_split\n",
    "from sklearn.preprocessing import MinMaxScaler\n",
    "import tensorflow as tf\n",
    "from tensorflow.keras.models import Sequential\n",
    "from tensorflow.keras.layers import LSTM, Dense, Dropout"
   ]
  },
  {
   "cell_type": "markdown",
   "id": "ad5c2798-daf1-4c1a-b57a-b55363943e35",
   "metadata": {
    "jp-MarkdownHeadingCollapsed": true
   },
   "source": [
    "# Load the Data"
   ]
  },
  {
   "cell_type": "code",
   "execution_count": 110,
   "id": "2c807f8e-3874-44b2-aff9-7f3f9ccbb70d",
   "metadata": {},
   "outputs": [
    {
     "data": {
      "text/html": [
       "<div>\n",
       "<style scoped>\n",
       "    .dataframe tbody tr th:only-of-type {\n",
       "        vertical-align: middle;\n",
       "    }\n",
       "\n",
       "    .dataframe tbody tr th {\n",
       "        vertical-align: top;\n",
       "    }\n",
       "\n",
       "    .dataframe thead th {\n",
       "        text-align: right;\n",
       "    }\n",
       "</style>\n",
       "<table border=\"1\" class=\"dataframe\">\n",
       "  <thead>\n",
       "    <tr style=\"text-align: right;\">\n",
       "      <th></th>\n",
       "      <th>PassengerId</th>\n",
       "      <th>Survived</th>\n",
       "      <th>Pclass</th>\n",
       "      <th>Name</th>\n",
       "      <th>Sex</th>\n",
       "      <th>Age</th>\n",
       "      <th>SibSp</th>\n",
       "      <th>Parch</th>\n",
       "      <th>Ticket</th>\n",
       "      <th>Fare</th>\n",
       "      <th>Cabin</th>\n",
       "      <th>Embarked</th>\n",
       "    </tr>\n",
       "  </thead>\n",
       "  <tbody>\n",
       "    <tr>\n",
       "      <th>0</th>\n",
       "      <td>1</td>\n",
       "      <td>0.0</td>\n",
       "      <td>3</td>\n",
       "      <td>Braund, Mr. Owen Harris</td>\n",
       "      <td>male</td>\n",
       "      <td>22.0</td>\n",
       "      <td>1</td>\n",
       "      <td>0</td>\n",
       "      <td>A/5 21171</td>\n",
       "      <td>7.2500</td>\n",
       "      <td>NaN</td>\n",
       "      <td>S</td>\n",
       "    </tr>\n",
       "    <tr>\n",
       "      <th>1</th>\n",
       "      <td>2</td>\n",
       "      <td>1.0</td>\n",
       "      <td>1</td>\n",
       "      <td>Cumings, Mrs. John Bradley (Florence Briggs Th...</td>\n",
       "      <td>female</td>\n",
       "      <td>38.0</td>\n",
       "      <td>1</td>\n",
       "      <td>0</td>\n",
       "      <td>PC 17599</td>\n",
       "      <td>71.2833</td>\n",
       "      <td>C85</td>\n",
       "      <td>C</td>\n",
       "    </tr>\n",
       "    <tr>\n",
       "      <th>2</th>\n",
       "      <td>3</td>\n",
       "      <td>1.0</td>\n",
       "      <td>3</td>\n",
       "      <td>Heikkinen, Miss. Laina</td>\n",
       "      <td>female</td>\n",
       "      <td>26.0</td>\n",
       "      <td>0</td>\n",
       "      <td>0</td>\n",
       "      <td>STON/O2. 3101282</td>\n",
       "      <td>7.9250</td>\n",
       "      <td>NaN</td>\n",
       "      <td>S</td>\n",
       "    </tr>\n",
       "    <tr>\n",
       "      <th>3</th>\n",
       "      <td>4</td>\n",
       "      <td>1.0</td>\n",
       "      <td>1</td>\n",
       "      <td>Futrelle, Mrs. Jacques Heath (Lily May Peel)</td>\n",
       "      <td>female</td>\n",
       "      <td>35.0</td>\n",
       "      <td>1</td>\n",
       "      <td>0</td>\n",
       "      <td>113803</td>\n",
       "      <td>53.1000</td>\n",
       "      <td>C123</td>\n",
       "      <td>S</td>\n",
       "    </tr>\n",
       "    <tr>\n",
       "      <th>4</th>\n",
       "      <td>5</td>\n",
       "      <td>0.0</td>\n",
       "      <td>3</td>\n",
       "      <td>Allen, Mr. William Henry</td>\n",
       "      <td>male</td>\n",
       "      <td>35.0</td>\n",
       "      <td>0</td>\n",
       "      <td>0</td>\n",
       "      <td>373450</td>\n",
       "      <td>8.0500</td>\n",
       "      <td>NaN</td>\n",
       "      <td>S</td>\n",
       "    </tr>\n",
       "  </tbody>\n",
       "</table>\n",
       "</div>"
      ],
      "text/plain": [
       "   PassengerId  Survived  Pclass  \\\n",
       "0            1       0.0       3   \n",
       "1            2       1.0       1   \n",
       "2            3       1.0       3   \n",
       "3            4       1.0       1   \n",
       "4            5       0.0       3   \n",
       "\n",
       "                                                Name     Sex   Age  SibSp  \\\n",
       "0                            Braund, Mr. Owen Harris    male  22.0      1   \n",
       "1  Cumings, Mrs. John Bradley (Florence Briggs Th...  female  38.0      1   \n",
       "2                             Heikkinen, Miss. Laina  female  26.0      0   \n",
       "3       Futrelle, Mrs. Jacques Heath (Lily May Peel)  female  35.0      1   \n",
       "4                           Allen, Mr. William Henry    male  35.0      0   \n",
       "\n",
       "   Parch            Ticket     Fare Cabin Embarked  \n",
       "0      0         A/5 21171   7.2500   NaN        S  \n",
       "1      0          PC 17599  71.2833   C85        C  \n",
       "2      0  STON/O2. 3101282   7.9250   NaN        S  \n",
       "3      0            113803  53.1000  C123        S  \n",
       "4      0            373450   8.0500   NaN        S  "
      ]
     },
     "execution_count": 110,
     "metadata": {},
     "output_type": "execute_result"
    }
   ],
   "source": [
    "df = pd.read_csv(r\"C:\\Users\\divin\\Documents\\ANA_500\\week_2\\titanic.csv\")\n",
    "\n",
    "# heading the first columns here similar to the module 1 code you pushed out\n",
    "df.head()\n"
   ]
  },
  {
   "cell_type": "markdown",
   "id": "c7b7aa1b-380f-4f4a-924d-8057a098141c",
   "metadata": {
    "jp-MarkdownHeadingCollapsed": true
   },
   "source": [
    "# Basic Info"
   ]
  },
  {
   "cell_type": "code",
   "execution_count": 107,
   "id": "a715f47e-33ab-497f-826e-495e726b4e0b",
   "metadata": {},
   "outputs": [
    {
     "name": "stdout",
     "output_type": "stream",
     "text": [
      "<class 'pandas.core.frame.DataFrame'>\n",
      "RangeIndex: 1309 entries, 0 to 1308\n",
      "Data columns (total 12 columns):\n",
      " #   Column       Non-Null Count  Dtype  \n",
      "---  ------       --------------  -----  \n",
      " 0   PassengerId  1309 non-null   int64  \n",
      " 1   Survived     891 non-null    float64\n",
      " 2   Pclass       1309 non-null   int64  \n",
      " 3   Name         1309 non-null   object \n",
      " 4   Sex          1309 non-null   object \n",
      " 5   Age          1046 non-null   float64\n",
      " 6   SibSp        1309 non-null   int64  \n",
      " 7   Parch        1309 non-null   int64  \n",
      " 8   Ticket       1309 non-null   object \n",
      " 9   Fare         1308 non-null   float64\n",
      " 10  Cabin        295 non-null    object \n",
      " 11  Embarked     1307 non-null   object \n",
      "dtypes: float64(3), int64(4), object(5)\n",
      "memory usage: 122.8+ KB\n"
     ]
    }
   ],
   "source": [
    "#Quick df code to display the general data info\n",
    "df.info()"
   ]
  },
  {
   "cell_type": "code",
   "execution_count": 112,
   "id": "c721b4be-9830-4a9e-9b73-4d49c8c113ae",
   "metadata": {},
   "outputs": [
    {
     "data": {
      "text/html": [
       "<div>\n",
       "<style scoped>\n",
       "    .dataframe tbody tr th:only-of-type {\n",
       "        vertical-align: middle;\n",
       "    }\n",
       "\n",
       "    .dataframe tbody tr th {\n",
       "        vertical-align: top;\n",
       "    }\n",
       "\n",
       "    .dataframe thead th {\n",
       "        text-align: right;\n",
       "    }\n",
       "</style>\n",
       "<table border=\"1\" class=\"dataframe\">\n",
       "  <thead>\n",
       "    <tr style=\"text-align: right;\">\n",
       "      <th></th>\n",
       "      <th>PassengerId</th>\n",
       "      <th>Survived</th>\n",
       "      <th>Pclass</th>\n",
       "      <th>Age</th>\n",
       "      <th>SibSp</th>\n",
       "      <th>Parch</th>\n",
       "      <th>Fare</th>\n",
       "    </tr>\n",
       "  </thead>\n",
       "  <tbody>\n",
       "    <tr>\n",
       "      <th>count</th>\n",
       "      <td>1309.000000</td>\n",
       "      <td>891.000000</td>\n",
       "      <td>1309.000000</td>\n",
       "      <td>1046.000000</td>\n",
       "      <td>1309.000000</td>\n",
       "      <td>1309.000000</td>\n",
       "      <td>1308.000000</td>\n",
       "    </tr>\n",
       "    <tr>\n",
       "      <th>mean</th>\n",
       "      <td>655.000000</td>\n",
       "      <td>0.383838</td>\n",
       "      <td>2.294882</td>\n",
       "      <td>29.881138</td>\n",
       "      <td>0.498854</td>\n",
       "      <td>0.385027</td>\n",
       "      <td>33.295479</td>\n",
       "    </tr>\n",
       "    <tr>\n",
       "      <th>std</th>\n",
       "      <td>378.020061</td>\n",
       "      <td>0.486592</td>\n",
       "      <td>0.837836</td>\n",
       "      <td>14.413493</td>\n",
       "      <td>1.041658</td>\n",
       "      <td>0.865560</td>\n",
       "      <td>51.758668</td>\n",
       "    </tr>\n",
       "    <tr>\n",
       "      <th>min</th>\n",
       "      <td>1.000000</td>\n",
       "      <td>0.000000</td>\n",
       "      <td>1.000000</td>\n",
       "      <td>0.170000</td>\n",
       "      <td>0.000000</td>\n",
       "      <td>0.000000</td>\n",
       "      <td>0.000000</td>\n",
       "    </tr>\n",
       "    <tr>\n",
       "      <th>25%</th>\n",
       "      <td>328.000000</td>\n",
       "      <td>0.000000</td>\n",
       "      <td>2.000000</td>\n",
       "      <td>21.000000</td>\n",
       "      <td>0.000000</td>\n",
       "      <td>0.000000</td>\n",
       "      <td>7.895800</td>\n",
       "    </tr>\n",
       "    <tr>\n",
       "      <th>50%</th>\n",
       "      <td>655.000000</td>\n",
       "      <td>0.000000</td>\n",
       "      <td>3.000000</td>\n",
       "      <td>28.000000</td>\n",
       "      <td>0.000000</td>\n",
       "      <td>0.000000</td>\n",
       "      <td>14.454200</td>\n",
       "    </tr>\n",
       "    <tr>\n",
       "      <th>75%</th>\n",
       "      <td>982.000000</td>\n",
       "      <td>1.000000</td>\n",
       "      <td>3.000000</td>\n",
       "      <td>39.000000</td>\n",
       "      <td>1.000000</td>\n",
       "      <td>0.000000</td>\n",
       "      <td>31.275000</td>\n",
       "    </tr>\n",
       "    <tr>\n",
       "      <th>max</th>\n",
       "      <td>1309.000000</td>\n",
       "      <td>1.000000</td>\n",
       "      <td>3.000000</td>\n",
       "      <td>80.000000</td>\n",
       "      <td>8.000000</td>\n",
       "      <td>9.000000</td>\n",
       "      <td>512.329200</td>\n",
       "    </tr>\n",
       "  </tbody>\n",
       "</table>\n",
       "</div>"
      ],
      "text/plain": [
       "       PassengerId    Survived       Pclass          Age        SibSp  \\\n",
       "count  1309.000000  891.000000  1309.000000  1046.000000  1309.000000   \n",
       "mean    655.000000    0.383838     2.294882    29.881138     0.498854   \n",
       "std     378.020061    0.486592     0.837836    14.413493     1.041658   \n",
       "min       1.000000    0.000000     1.000000     0.170000     0.000000   \n",
       "25%     328.000000    0.000000     2.000000    21.000000     0.000000   \n",
       "50%     655.000000    0.000000     3.000000    28.000000     0.000000   \n",
       "75%     982.000000    1.000000     3.000000    39.000000     1.000000   \n",
       "max    1309.000000    1.000000     3.000000    80.000000     8.000000   \n",
       "\n",
       "             Parch         Fare  \n",
       "count  1309.000000  1308.000000  \n",
       "mean      0.385027    33.295479  \n",
       "std       0.865560    51.758668  \n",
       "min       0.000000     0.000000  \n",
       "25%       0.000000     7.895800  \n",
       "50%       0.000000    14.454200  \n",
       "75%       0.000000    31.275000  \n",
       "max       9.000000   512.329200  "
      ]
     },
     "execution_count": 112,
     "metadata": {},
     "output_type": "execute_result"
    }
   ],
   "source": [
    "# df code to describe the some of the variable info, will likely get rid of some the extra zeros as a I move further along with this project.\n",
    "df.describe()"
   ]
  },
  {
   "cell_type": "markdown",
   "id": "a66facf1-6be6-4391-898f-b5e28902f180",
   "metadata": {
    "jp-MarkdownHeadingCollapsed": true
   },
   "source": [
    "# Sorting and Filtering"
   ]
  },
  {
   "cell_type": "code",
   "execution_count": 114,
   "id": "5cbb0faf-f496-4f8e-be71-9dc228ceab82",
   "metadata": {},
   "outputs": [
    {
     "data": {
      "text/html": [
       "<div>\n",
       "<style scoped>\n",
       "    .dataframe tbody tr th:only-of-type {\n",
       "        vertical-align: middle;\n",
       "    }\n",
       "\n",
       "    .dataframe tbody tr th {\n",
       "        vertical-align: top;\n",
       "    }\n",
       "\n",
       "    .dataframe thead th {\n",
       "        text-align: right;\n",
       "    }\n",
       "</style>\n",
       "<table border=\"1\" class=\"dataframe\">\n",
       "  <thead>\n",
       "    <tr style=\"text-align: right;\">\n",
       "      <th></th>\n",
       "      <th>PassengerId</th>\n",
       "      <th>Survived</th>\n",
       "      <th>Pclass</th>\n",
       "      <th>Name</th>\n",
       "      <th>Sex</th>\n",
       "      <th>Age</th>\n",
       "      <th>SibSp</th>\n",
       "      <th>Parch</th>\n",
       "      <th>Ticket</th>\n",
       "      <th>Fare</th>\n",
       "      <th>Cabin</th>\n",
       "      <th>Embarked</th>\n",
       "    </tr>\n",
       "  </thead>\n",
       "  <tbody>\n",
       "    <tr>\n",
       "      <th>27</th>\n",
       "      <td>28</td>\n",
       "      <td>0.0</td>\n",
       "      <td>1</td>\n",
       "      <td>Fortune, Mr. Charles Alexander</td>\n",
       "      <td>male</td>\n",
       "      <td>19.0</td>\n",
       "      <td>3</td>\n",
       "      <td>2</td>\n",
       "      <td>19950</td>\n",
       "      <td>263.0000</td>\n",
       "      <td>C23 C25 C27</td>\n",
       "      <td>S</td>\n",
       "    </tr>\n",
       "    <tr>\n",
       "      <th>31</th>\n",
       "      <td>32</td>\n",
       "      <td>1.0</td>\n",
       "      <td>1</td>\n",
       "      <td>Spencer, Mrs. William Augustus (Marie Eugenie)</td>\n",
       "      <td>female</td>\n",
       "      <td>NaN</td>\n",
       "      <td>1</td>\n",
       "      <td>0</td>\n",
       "      <td>PC 17569</td>\n",
       "      <td>146.5208</td>\n",
       "      <td>B78</td>\n",
       "      <td>C</td>\n",
       "    </tr>\n",
       "    <tr>\n",
       "      <th>88</th>\n",
       "      <td>89</td>\n",
       "      <td>1.0</td>\n",
       "      <td>1</td>\n",
       "      <td>Fortune, Miss. Mabel Helen</td>\n",
       "      <td>female</td>\n",
       "      <td>23.0</td>\n",
       "      <td>3</td>\n",
       "      <td>2</td>\n",
       "      <td>19950</td>\n",
       "      <td>263.0000</td>\n",
       "      <td>C23 C25 C27</td>\n",
       "      <td>S</td>\n",
       "    </tr>\n",
       "    <tr>\n",
       "      <th>118</th>\n",
       "      <td>119</td>\n",
       "      <td>0.0</td>\n",
       "      <td>1</td>\n",
       "      <td>Baxter, Mr. Quigg Edmond</td>\n",
       "      <td>male</td>\n",
       "      <td>24.0</td>\n",
       "      <td>0</td>\n",
       "      <td>1</td>\n",
       "      <td>PC 17558</td>\n",
       "      <td>247.5208</td>\n",
       "      <td>B58 B60</td>\n",
       "      <td>C</td>\n",
       "    </tr>\n",
       "    <tr>\n",
       "      <th>195</th>\n",
       "      <td>196</td>\n",
       "      <td>1.0</td>\n",
       "      <td>1</td>\n",
       "      <td>Lurette, Miss. Elise</td>\n",
       "      <td>female</td>\n",
       "      <td>58.0</td>\n",
       "      <td>0</td>\n",
       "      <td>0</td>\n",
       "      <td>PC 17569</td>\n",
       "      <td>146.5208</td>\n",
       "      <td>B80</td>\n",
       "      <td>C</td>\n",
       "    </tr>\n",
       "  </tbody>\n",
       "</table>\n",
       "</div>"
      ],
      "text/plain": [
       "     PassengerId  Survived  Pclass  \\\n",
       "27            28       0.0       1   \n",
       "31            32       1.0       1   \n",
       "88            89       1.0       1   \n",
       "118          119       0.0       1   \n",
       "195          196       1.0       1   \n",
       "\n",
       "                                               Name     Sex   Age  SibSp  \\\n",
       "27                   Fortune, Mr. Charles Alexander    male  19.0      3   \n",
       "31   Spencer, Mrs. William Augustus (Marie Eugenie)  female   NaN      1   \n",
       "88                       Fortune, Miss. Mabel Helen  female  23.0      3   \n",
       "118                        Baxter, Mr. Quigg Edmond    male  24.0      0   \n",
       "195                            Lurette, Miss. Elise  female  58.0      0   \n",
       "\n",
       "     Parch    Ticket      Fare        Cabin Embarked  \n",
       "27       2     19950  263.0000  C23 C25 C27        S  \n",
       "31       0  PC 17569  146.5208          B78        C  \n",
       "88       2     19950  263.0000  C23 C25 C27        S  \n",
       "118      1  PC 17558  247.5208      B58 B60        C  \n",
       "195      0  PC 17569  146.5208          B80        C  "
      ]
     },
     "execution_count": 114,
     "metadata": {},
     "output_type": "execute_result"
    }
   ],
   "source": [
    "#Made it a goal of mine to make sort and filter the data frame here with intent as it aligns with my problem statment and hypothesis formualtion.\n",
    "\n",
    "\n",
    "# Sort passengers by Age (youngest to oldest)\n",
    "df.sort_values(by='Age', ascending=True).head()\n",
    "\n",
    "# Sort passengers by Fare (highest to lowest)\n",
    "df.sort_values(by='Fare', ascending=False).head()\n",
    "\n",
    "# Filter: show all female passengers\n",
    "df[df['Sex'] == 'female'].head()\n",
    "\n",
    "# Filter: female passengers in first class\n",
    "df[(df['Sex'] == 'female') & (df['Pclass'] == 1)].head()\n",
    "\n",
    "# Filter: passengers under age 13 (children)\n",
    "df[df['Age'] < 13].head()\n",
    "\n",
    "# Filter: passengers who paid more than 100 in fare\n",
    "df[df['Fare'] > 100].head()\n"
   ]
  },
  {
   "cell_type": "markdown",
   "id": "28b3250f-9fa9-4807-b1ba-e5a65af3ca86",
   "metadata": {
    "jp-MarkdownHeadingCollapsed": true
   },
   "source": [
    "# Data Cleaning with Pandas"
   ]
  },
  {
   "cell_type": "code",
   "execution_count": 116,
   "id": "f37ca4ed-49c8-4153-b0bd-7e4f88a29d18",
   "metadata": {},
   "outputs": [
    {
     "data": {
      "text/plain": [
       "PassengerId      0\n",
       "Survived       418\n",
       "Pclass           0\n",
       "Name             0\n",
       "Sex              0\n",
       "Age              0\n",
       "SibSp            0\n",
       "Parch            0\n",
       "Ticket           0\n",
       "Fare             0\n",
       "Embarked         0\n",
       "HasCabin         0\n",
       "dtype: int64"
      ]
     },
     "execution_count": 116,
     "metadata": {},
     "output_type": "execute_result"
    }
   ],
   "source": [
    "# The Titanic Dataset is already in good shape, my final check shows how I'm choosing to move forward with my analysis (step 3).\n",
    "\n",
    "# Fill missing Embarked with mode\n",
    "df['Embarked'] = df['Embarked'].fillna(df['Embarked'].mode()[0])\n",
    "\n",
    "# Fill missing Fare with median\n",
    "df['Fare'] = df['Fare'].fillna(df['Fare'].median())\n",
    "\n",
    "# Fill missing Age with median for each Sex × Pclass group\n",
    "df['Age'] = df.groupby(['Sex', 'Pclass'], observed=False)['Age'].transform(\n",
    "    lambda x: x.fillna(x.median())\n",
    ")\n",
    "\n",
    "# Create HasCabin flag (1 if cabin info exists, else 0)\n",
    "df['HasCabin'] = df['Cabin'].notna().astype(int)\n",
    "\n",
    "# Convert to appropriate data types\n",
    "df['Pclass'] = df['Pclass'].astype('category')\n",
    "df['Sex'] = df['Sex'].astype('category')\n",
    "df['Embarked'] = df['Embarked'].astype('category')\n",
    "\n",
    "# Remove duplicate passenger records if any\n",
    "df = df.drop_duplicates(subset=['Name', 'Ticket'])\n",
    "\n",
    "# Final check of missing values after cleaning (drop Cabin since it's been handled)\n",
    "df.drop(columns=['Cabin'], errors='ignore').isna().sum()\n"
   ]
  },
  {
   "cell_type": "markdown",
   "id": "03ab489d-63cc-47fb-85cb-138e7250a62e",
   "metadata": {
    "jp-MarkdownHeadingCollapsed": true
   },
   "source": [
    "# Micro-Project 2: Downloading Data"
   ]
  },
  {
   "cell_type": "markdown",
   "id": "880f51a1-04a6-46f5-a712-832c8be797a8",
   "metadata": {},
   "source": [
    " ### Data Visualizations with Matplotlib & Plotly | Analyze and Report"
   ]
  },
  {
   "cell_type": "markdown",
   "id": "18db7e06-b1a7-42c1-8de8-b30c271ae19e",
   "metadata": {},
   "source": [
    "#### Survival by Passenger Class (Matplotlib)"
   ]
  },
  {
   "cell_type": "markdown",
   "id": "bedfb16c-e986-405c-8adb-672941e2dcde",
   "metadata": {},
   "source": [
    "First I looked at ticket class—1st, 2nd, or 3rd. The results were pretty striking. If you were in first class, you had the best shot, with survival rates way above those in third class. Third-class passengers, on the other hand, barely survived at all. To me, this really shows how money and social status played a role in who got access to lifeboats."
   ]
  },
  {
   "cell_type": "code",
   "execution_count": 118,
   "id": "ba3ebc6a-39be-4cf3-95d8-01667df36699",
   "metadata": {},
   "outputs": [
    {
     "data": {
      "image/png": "[encoded data removed]",
      "text/plain": [
       "<Figure size 600x400 with 1 Axes>"
      ]
     },
     "metadata": {},
     "output_type": "display_data"
    }
   ],
   "source": [
    "# Survival rate by Passenger Class\n",
    "import matplotlib.pyplot as plt\n",
    "\n",
    "if {'Pclass','Survived'}.issubset(df.columns):\n",
    "    fig, ax = plt.subplots(figsize=(6,4))\n",
    "    survival_rate_class = df.groupby('Pclass', observed=False)['Survived'].mean().mul(100)\n",
    "    survival_rate_class.plot(kind='bar', ax=ax, color=['#4C72B0','#55A868','#C44E52'])\n",
    "\n",
    "    ax.set_title(\"Survival Rate by Passenger Class\")\n",
    "    ax.set_ylabel(\"Survival Rate (%)\")\n",
    "    ax.set_xlabel(\"Passenger Class\")\n",
    "    ax.bar_label(ax.containers[0], fmt=\"%.1f%%\", fontsize=9)\n",
    "    plt.tight_layout()\n",
    "    plt.show()\n",
    "else:\n",
    "    print(\"Skipping Plot 2: required columns missing.\")\n",
    "\n"
   ]
  },
  {
   "cell_type": "markdown",
   "id": "7814f536-f71d-4e87-9527-f46a5bfce554",
   "metadata": {},
   "source": [
    "#### Age Distribution of Survivors vs Non-Survivors (Seaborn)"
   ]
  },
  {
   "cell_type": "markdown",
   "id": "0140e944-bd07-4dd1-be4e-f71e87db4ac8",
   "metadata": {},
   "source": [
    "Age was another thing I wanted to check. The histogram shows a clear split—kids under about 13 were more likely to survive, while older passengers, especially men, weren’t as lucky. You can see survival really dropping off for adults. It’s basically visual proof that children were prioritized during the evacuation."
   ]
  },
  {
   "cell_type": "code",
   "execution_count": 120,
   "id": "0ff5ae54-6c27-4acf-89d9-cf9ee994865f",
   "metadata": {},
   "outputs": [
    {
     "data": {
      "image/png": "[encoded data removed]",
      "text/plain": [
       "<Figure size 700x500 with 1 Axes>"
      ]
     },
     "metadata": {},
     "output_type": "display_data"
    }
   ],
   "source": [
    "import seaborn as sns\n",
    "import matplotlib.pyplot as plt\n",
    "\n",
    "# Make sure a readable SurvivalLabel column exists\n",
    "if 'Survived' in df.columns and 'SurvivalLabel' not in df.columns:\n",
    "    df['SurvivalLabel'] = df['Survived'].map({0: 'Did Not Survive', 1: 'Survived'})\n",
    "\n",
    "# Now plot if both Age and SurvivalLabel exist\n",
    "if {'Age','SurvivalLabel'}.issubset(df.columns):\n",
    "    plt.figure(figsize=(7,5))\n",
    "    sns.histplot(\n",
    "        data=df.dropna(subset=['Age']),   # drop rows with missing Age\n",
    "        x=\"Age\", \n",
    "        hue=\"SurvivalLabel\", \n",
    "        bins=25, \n",
    "        element=\"step\",\n",
    "        alpha=0.6\n",
    "    )\n",
    "    plt.title(\"Age Distribution: Survivors vs Non-Survivors\")\n",
    "    plt.xlabel(\"Age\")\n",
    "    plt.ylabel(\"Count\")\n",
    "    plt.tight_layout()\n",
    "    plt.show()\n",
    "else:\n",
    "    print(\"Skipping Plot 3: required columns missing.\")"
   ]
  },
  {
   "cell_type": "markdown",
   "id": "d9f573fc-d432-4ecc-b803-945078654136",
   "metadata": {},
   "source": [
    "#### Fare vs Survival (Boxplot, Seaborn)"
   ]
  },
  {
   "cell_type": "markdown",
   "id": "a5b83e55-9f49-4193-8b59-a46178e14f10",
   "metadata": {},
   "source": [
    "Then I compared ticket prices (fares) against survival. The boxplot makes it obvious that survivors tended to have higher fares, while non-survivors clustered in the cheaper range. In other words, the more you paid for your ticket, the better your odds of making it. It’s another way to see how wealth and class influenced survival."
   ]
  },
  {
   "cell_type": "code",
   "execution_count": 122,
   "id": "a8acd73c-9a76-451b-be0f-b2e4c8bcde8a",
   "metadata": {},
   "outputs": [
    {
     "data": {
      "image/png": "[encoded data removed]",
      "text/plain": [
       "<Figure size 600x500 with 1 Axes>"
      ]
     },
     "metadata": {},
     "output_type": "display_data"
    }
   ],
   "source": [
    "# Fare distribution by Survival outcome ===\n",
    "import seaborn as sns\n",
    "import matplotlib.pyplot as plt\n",
    "\n",
    "# Ensure SurvivalLabel exists\n",
    "if 'Survived' in df.columns and 'SurvivalLabel' not in df.columns:\n",
    "    df['SurvivalLabel'] = df['Survived'].map({0: 'Did Not Survive', 1: 'Survived'})\n",
    "\n",
    "if {'Fare','SurvivalLabel'}.issubset(df.columns):\n",
    "    plt.figure(figsize=(6,5))\n",
    "    sns.boxplot(\n",
    "        data=df, \n",
    "        x=\"SurvivalLabel\", \n",
    "        y=\"Fare\", \n",
    "        hue=\"SurvivalLabel\",  # avoids palette warning\n",
    "        palette=\"Set2\", \n",
    "        legend=False\n",
    "    )\n",
    "    plt.ylim(0, 300)  # cap axis to reduce skew from extreme fares\n",
    "    plt.title(\"Fare Distribution by Survival\")\n",
    "    plt.xlabel(\"Survival Status\")\n",
    "    plt.ylabel(\"Fare Paid\")\n",
    "    plt.tight_layout()\n",
    "    plt.show()\n",
    "else:\n",
    "    print(\"Skipping Plot 4: required columns missing.\")\n"
   ]
  },
  {
   "cell_type": "markdown",
   "id": "9fa841e5-2697-430b-864a-d1333d74ccec",
   "metadata": {},
   "source": [
    "#### Correlation Heatmap (Plotly)"
   ]
  },
  {
   "cell_type": "markdown",
   "id": "c9654d84-5c18-489d-b5c3-8e48bb22cfaa",
   "metadata": {},
   "source": [
    "I used a correlation heatmap to check which factors lined up the most with survival. The results show that sex, passenger class, and fare had the strongest connections, while age mattered but not as much. Put simply, being female and wealthy gave you a big advantage, and being younger helped too, especially for kids."
   ]
  },
  {
   "cell_type": "code",
   "execution_count": 124,
   "id": "32617ba6-be1a-48e2-8627-9eaf7401daf2",
   "metadata": {},
   "outputs": [
    {
     "data": {
      "application/vnd.plotly.v1+json": {
       "config": {
        "plotlyServerURL": "https://plot.ly"
       },
       "data": [
        {
         "colorscale": [
          [
           0,
           "rgb(5,48,97)"
          ],
          [
           0.1,
           "rgb(33,102,172)"
          ],
          [
           0.2,
           "rgb(67,147,195)"
          ],
          [
           0.3,
           "rgb(146,197,222)"
          ],
          [
           0.4,
           "rgb(209,229,240)"
          ],
          [
           0.5,
           "rgb(247,247,247)"
          ],
          [
           0.6,
           "rgb(253,219,199)"
          ],
          [
           0.7,
           "rgb(244,165,130)"
          ],
          [
           0.8,
           "rgb(214,96,77)"
          ],
          [
           0.9,
           "rgb(178,24,43)"
          ],
          [
           1,
           "rgb(103,0,31)"
          ]
         ],
         "reversescale": false,
         "showscale": true,
         "type": "heatmap",
         "x": [
          "PassengerId",
          "Survived",
          "Age",
          "SibSp",
          "Parch",
          "Fare",
          "HasCabin"
         ],
         "y": [
          "PassengerId",
          "Survived",
          "Age",
          "SibSp",
          "Parch",
          "Fare",
          "HasCabin"
         ],
         "z": [
          [
           1,
           -0.01,
           0.02,
           -0.06,
           0.01,
           0.03,
           0
          ],
          [
           -0.01,
           1,
           -0.06,
           -0.04,
           0.08,
           0.26,
           0.32
          ],
          [
           0.02,
           -0.06,
           1,
           -0.2,
           -0.13,
           0.2,
           0.31
          ],
          [
           -0.06,
           -0.04,
           -0.2,
           1,
           0.37,
           0.16,
           -0.01
          ],
          [
           0.01,
           0.08,
           -0.13,
           0.37,
           1,
           0.22,
           0.04
          ],
          [
           0.03,
           0.26,
           0.2,
           0.16,
           0.22,
           1,
           0.51
          ],
          [
           0,
           0.32,
           0.31,
           -0.01,
           0.04,
           0.51,
           1
          ]
         ],
         "zmid": 0
        }
       ],
       "layout": {
        "annotations": [
         {
          "font": {
           "color": "#FFFFFF"
          },
          "showarrow": false,
          "text": "1.0",
          "x": "PassengerId",
          "xref": "x",
          "y": "PassengerId",
          "yref": "y"
         },
         {
          "font": {
           "color": "#FFFFFF"
          },
          "showarrow": false,
          "text": "-0.01",
          "x": "Survived",
          "xref": "x",
          "y": "PassengerId",
          "yref": "y"
         },
         {
          "font": {
           "color": "#FFFFFF"
          },
          "showarrow": false,
          "text": "0.02",
          "x": "Age",
          "xref": "x",
          "y": "PassengerId",
          "yref": "y"
         },
         {
          "font": {
           "color": "#FFFFFF"
          },
          "showarrow": false,
          "text": "-0.06",
          "x": "SibSp",
          "xref": "x",
          "y": "PassengerId",
          "yref": "y"
         },
         {
          "font": {
           "color": "#FFFFFF"
          },
          "showarrow": false,
          "text": "0.01",
          "x": "Parch",
          "xref": "x",
          "y": "PassengerId",
          "yref": "y"
         },
         {
          "font": {
           "color": "#FFFFFF"
          },
          "showarrow": false,
          "text": "0.03",
          "x": "Fare",
          "xref": "x",
          "y": "PassengerId",
          "yref": "y"
         },
         {
          "font": {
           "color": "#FFFFFF"
          },
          "showarrow": false,
          "text": "-0.0",
          "x": "HasCabin",
          "xref": "x",
          "y": "PassengerId",
          "yref": "y"
         },
         {
          "font": {
           "color": "#FFFFFF"
          },
          "showarrow": false,
          "text": "-0.01",
          "x": "PassengerId",
          "xref": "x",
          "y": "Survived",
          "yref": "y"
         },
         {
          "font": {
           "color": "#FFFFFF"
          },
          "showarrow": false,
          "text": "1.0",
          "x": "Survived",
          "xref": "x",
          "y": "Survived",
          "yref": "y"
         },
         {
          "font": {
           "color": "#FFFFFF"
          },
          "showarrow": false,
          "text": "-0.06",
          "x": "Age",
          "xref": "x",
          "y": "Survived",
          "yref": "y"
         },
         {
          "font": {
           "color": "#FFFFFF"
          },
          "showarrow": false,
          "text": "-0.04",
          "x": "SibSp",
          "xref": "x",
          "y": "Survived",
          "yref": "y"
         },
         {
          "font": {
           "color": "#FFFFFF"
          },
          "showarrow": false,
          "text": "0.08",
          "x": "Parch",
          "xref": "x",
          "y": "Survived",
          "yref": "y"
         },
         {
          "font": {
           "color": "#FFFFFF"
          },
          "showarrow": false,
          "text": "0.26",
          "x": "Fare",
          "xref": "x",
          "y": "Survived",
          "yref": "y"
         },
         {
          "font": {
           "color": "#FFFFFF"
          },
          "showarrow": false,
          "text": "0.32",
          "x": "HasCabin",
          "xref": "x",
          "y": "Survived",
          "yref": "y"
         },
         {
          "font": {
           "color": "#FFFFFF"
          },
          "showarrow": false,
          "text": "0.02",
          "x": "PassengerId",
          "xref": "x",
          "y": "Age",
          "yref": "y"
         },
         {
          "font": {
           "color": "#FFFFFF"
          },
          "showarrow": false,
          "text": "-0.06",
          "x": "Survived",
          "xref": "x",
          "y": "Age",
          "yref": "y"
         },
         {
          "font": {
           "color": "#FFFFFF"
          },
          "showarrow": false,
          "text": "1.0",
          "x": "Age",
          "xref": "x",
          "y": "Age",
          "yref": "y"
         },
         {
          "font": {
           "color": "#FFFFFF"
          },
          "showarrow": false,
          "text": "-0.2",
          "x": "SibSp",
          "xref": "x",
          "y": "Age",
          "yref": "y"
         },
         {
          "font": {
           "color": "#FFFFFF"
          },
          "showarrow": false,
          "text": "-0.13",
          "x": "Parch",
          "xref": "x",
          "y": "Age",
          "yref": "y"
         },
         {
          "font": {
           "color": "#FFFFFF"
          },
          "showarrow": false,
          "text": "0.2",
          "x": "Fare",
          "xref": "x",
          "y": "Age",
          "yref": "y"
         },
         {
          "font": {
           "color": "#FFFFFF"
          },
          "showarrow": false,
          "text": "0.31",
          "x": "HasCabin",
          "xref": "x",
          "y": "Age",
          "yref": "y"
         },
         {
          "font": {
           "color": "#FFFFFF"
          },
          "showarrow": false,
          "text": "-0.06",
          "x": "PassengerId",
          "xref": "x",
          "y": "SibSp",
          "yref": "y"
         },
         {
          "font": {
           "color": "#FFFFFF"
          },
          "showarrow": false,
          "text": "-0.04",
          "x": "Survived",
          "xref": "x",
          "y": "SibSp",
          "yref": "y"
         },
         {
          "font": {
           "color": "#FFFFFF"
          },
          "showarrow": false,
          "text": "-0.2",
          "x": "Age",
          "xref": "x",
          "y": "SibSp",
          "yref": "y"
         },
         {
          "font": {
           "color": "#FFFFFF"
          },
          "showarrow": false,
          "text": "1.0",
          "x": "SibSp",
          "xref": "x",
          "y": "SibSp",
          "yref": "y"
         },
         {
          "font": {
           "color": "#FFFFFF"
          },
          "showarrow": false,
          "text": "0.37",
          "x": "Parch",
          "xref": "x",
          "y": "SibSp",
          "yref": "y"
         },
         {
          "font": {
           "color": "#FFFFFF"
          },
          "showarrow": false,
          "text": "0.16",
          "x": "Fare",
          "xref": "x",
          "y": "SibSp",
          "yref": "y"
         },
         {
          "font": {
           "color": "#FFFFFF"
          },
          "showarrow": false,
          "text": "-0.01",
          "x": "HasCabin",
          "xref": "x",
          "y": "SibSp",
          "yref": "y"
         },
         {
          "font": {
           "color": "#FFFFFF"
          },
          "showarrow": false,
          "text": "0.01",
          "x": "PassengerId",
          "xref": "x",
          "y": "Parch",
          "yref": "y"
         },
         {
          "font": {
           "color": "#FFFFFF"
          },
          "showarrow": false,
          "text": "0.08",
          "x": "Survived",
          "xref": "x",
          "y": "Parch",
          "yref": "y"
         },
         {
          "font": {
           "color": "#FFFFFF"
          },
          "showarrow": false,
          "text": "-0.13",
          "x": "Age",
          "xref": "x",
          "y": "Parch",
          "yref": "y"
         },
         {
          "font": {
           "color": "#FFFFFF"
          },
          "showarrow": false,
          "text": "0.37",
          "x": "SibSp",
          "xref": "x",
          "y": "Parch",
          "yref": "y"
         },
         {
          "font": {
           "color": "#FFFFFF"
          },
          "showarrow": false,
          "text": "1.0",
          "x": "Parch",
          "xref": "x",
          "y": "Parch",
          "yref": "y"
         },
         {
          "font": {
           "color": "#FFFFFF"
          },
          "showarrow": false,
          "text": "0.22",
          "x": "Fare",
          "xref": "x",
          "y": "Parch",
          "yref": "y"
         },
         {
          "font": {
           "color": "#FFFFFF"
          },
          "showarrow": false,
          "text": "0.04",
          "x": "HasCabin",
          "xref": "x",
          "y": "Parch",
          "yref": "y"
         },
         {
          "font": {
           "color": "#FFFFFF"
          },
          "showarrow": false,
          "text": "0.03",
          "x": "PassengerId",
          "xref": "x",
          "y": "Fare",
          "yref": "y"
         },
         {
          "font": {
           "color": "#FFFFFF"
          },
          "showarrow": false,
          "text": "0.26",
          "x": "Survived",
          "xref": "x",
          "y": "Fare",
          "yref": "y"
         },
         {
          "font": {
           "color": "#FFFFFF"
          },
          "showarrow": false,
          "text": "0.2",
          "x": "Age",
          "xref": "x",
          "y": "Fare",
          "yref": "y"
         },
         {
          "font": {
           "color": "#FFFFFF"
          },
          "showarrow": false,
          "text": "0.16",
          "x": "SibSp",
          "xref": "x",
          "y": "Fare",
          "yref": "y"
         },
         {
          "font": {
           "color": "#FFFFFF"
          },
          "showarrow": false,
          "text": "0.22",
          "x": "Parch",
          "xref": "x",
          "y": "Fare",
          "yref": "y"
         },
         {
          "font": {
           "color": "#FFFFFF"
          },
          "showarrow": false,
          "text": "1.0",
          "x": "Fare",
          "xref": "x",
          "y": "Fare",
          "yref": "y"
         },
         {
          "font": {
           "color": "#FFFFFF"
          },
          "showarrow": false,
          "text": "0.51",
          "x": "HasCabin",
          "xref": "x",
          "y": "Fare",
          "yref": "y"
         },
         {
          "font": {
           "color": "#FFFFFF"
          },
          "showarrow": false,
          "text": "-0.0",
          "x": "PassengerId",
          "xref": "x",
          "y": "HasCabin",
          "yref": "y"
         },
         {
          "font": {
           "color": "#FFFFFF"
          },
          "showarrow": false,
          "text": "0.32",
          "x": "Survived",
          "xref": "x",
          "y": "HasCabin",
          "yref": "y"
         },
         {
          "font": {
           "color": "#FFFFFF"
          },
          "showarrow": false,
          "text": "0.31",
          "x": "Age",
          "xref": "x",
          "y": "HasCabin",
          "yref": "y"
         },
         {
          "font": {
           "color": "#FFFFFF"
          },
          "showarrow": false,
          "text": "-0.01",
          "x": "SibSp",
          "xref": "x",
          "y": "HasCabin",
          "yref": "y"
         },
         {
          "font": {
           "color": "#FFFFFF"
          },
          "showarrow": false,
          "text": "0.04",
          "x": "Parch",
          "xref": "x",
          "y": "HasCabin",
          "yref": "y"
         },
         {
          "font": {
           "color": "#FFFFFF"
          },
          "showarrow": false,
          "text": "0.51",
          "x": "Fare",
          "xref": "x",
          "y": "HasCabin",
          "yref": "y"
         },
         {
          "font": {
           "color": "#FFFFFF"
          },
          "showarrow": false,
          "text": "1.0",
          "x": "HasCabin",
          "xref": "x",
          "y": "HasCabin",
          "yref": "y"
         }
        ],
        "height": 700,
        "template": {
         "data": {
          "bar": [
           {
            "error_x": {
             "color": "#2a3f5f"
            },
            "error_y": {
             "color": "#2a3f5f"
            },
            "marker": {
             "line": {
              "color": "#E5ECF6",
              "width": 0.5
             },
             "pattern": {
              "fillmode": "overlay",
              "size": 10,
              "solidity": 0.2
             }
            },
            "type": "bar"
           }
          ],
          "barpolar": [
           {
            "marker": {
             "line": {
              "color": "#E5ECF6",
              "width": 0.5
             },
             "pattern": {
              "fillmode": "overlay",
              "size": 10,
              "solidity": 0.2
             }
            },
            "type": "barpolar"
           }
          ],
          "carpet": [
           {
            "aaxis": {
             "endlinecolor": "#2a3f5f",
             "gridcolor": "white",
             "linecolor": "white",
             "minorgridcolor": "white",
             "startlinecolor": "#2a3f5f"
            },
            "baxis": {
             "endlinecolor": "#2a3f5f",
             "gridcolor": "white",
             "linecolor": "white",
             "minorgridcolor": "white",
             "startlinecolor": "#2a3f5f"
            },
            "type": "carpet"
           }
          ],
          "choropleth": [
           {
            "colorbar": {
             "outlinewidth": 0,
             "ticks": ""
            },
            "type": "choropleth"
           }
          ],
          "contour": [
           {
            "colorbar": {
             "outlinewidth": 0,
             "ticks": ""
            },
            "colorscale": [
             [
              0,
              "#0d0887"
             ],
             [
              0.1111111111111111,
              "#46039f"
             ],
             [
              0.2222222222222222,
              "#7201a8"
             ],
             [
              0.3333333333333333,
              "#9c179e"
             ],
             [
              0.4444444444444444,
              "#bd3786"
             ],
             [
              0.5555555555555556,
              "#d8576b"
             ],
             [
              0.6666666666666666,
              "#ed7953"
             ],
             [
              0.7777777777777778,
              "#fb9f3a"
             ],
             [
              0.8888888888888888,
              "#fdca26"
             ],
             [
              1,
              "#f0f921"
             ]
            ],
            "type": "contour"
           }
          ],
          "contourcarpet": [
           {
            "colorbar": {
             "outlinewidth": 0,
             "ticks": ""
            },
            "type": "contourcarpet"
           }
          ],
          "heatmap": [
           {
            "colorbar": {
             "outlinewidth": 0,
             "ticks": ""
            },
            "colorscale": [
             [
              0,
              "#0d0887"
             ],
             [
              0.1111111111111111,
              "#46039f"
             ],
             [
              0.2222222222222222,
              "#7201a8"
             ],
             [
              0.3333333333333333,
              "#9c179e"
             ],
             [
              0.4444444444444444,
              "#bd3786"
             ],
             [
              0.5555555555555556,
              "#d8576b"
             ],
             [
              0.6666666666666666,
              "#ed7953"
             ],
             [
              0.7777777777777778,
              "#fb9f3a"
             ],
             [
              0.8888888888888888,
              "#fdca26"
             ],
             [
              1,
              "#f0f921"
             ]
            ],
            "type": "heatmap"
           }
          ],
          "heatmapgl": [
           {
            "colorbar": {
             "outlinewidth": 0,
             "ticks": ""
            },
            "colorscale": [
             [
              0,
              "#0d0887"
             ],
             [
              0.1111111111111111,
              "#46039f"
             ],
             [
              0.2222222222222222,
              "#7201a8"
             ],
             [
              0.3333333333333333,
              "#9c179e"
             ],
             [
              0.4444444444444444,
              "#bd3786"
             ],
             [
              0.5555555555555556,
              "#d8576b"
             ],
             [
              0.6666666666666666,
              "#ed7953"
             ],
             [
              0.7777777777777778,
              "#fb9f3a"
             ],
             [
              0.8888888888888888,
              "#fdca26"
             ],
             [
              1,
              "#f0f921"
             ]
            ],
            "type": "heatmapgl"
           }
          ],
          "histogram": [
           {
            "marker": {
             "pattern": {
              "fillmode": "overlay",
              "size": 10,
              "solidity": 0.2
             }
            },
            "type": "histogram"
           }
          ],
          "histogram2d": [
           {
            "colorbar": {
             "outlinewidth": 0,
             "ticks": ""
            },
            "colorscale": [
             [
              0,
              "#0d0887"
             ],
             [
              0.1111111111111111,
              "#46039f"
             ],
             [
              0.2222222222222222,
              "#7201a8"
             ],
             [
              0.3333333333333333,
              "#9c179e"
             ],
             [
              0.4444444444444444,
              "#bd3786"
             ],
             [
              0.5555555555555556,
              "#d8576b"
             ],
             [
              0.6666666666666666,
              "#ed7953"
             ],
             [
              0.7777777777777778,
              "#fb9f3a"
             ],
             [
              0.8888888888888888,
              "#fdca26"
             ],
             [
              1,
              "#f0f921"
             ]
            ],
            "type": "histogram2d"
           }
          ],
          "histogram2dcontour": [
           {
            "colorbar": {
             "outlinewidth": 0,
             "ticks": ""
            },
            "colorscale": [
             [
              0,
              "#0d0887"
             ],
             [
              0.1111111111111111,
              "#46039f"
             ],
             [
              0.2222222222222222,
              "#7201a8"
             ],
             [
              0.3333333333333333,
              "#9c179e"
             ],
             [
              0.4444444444444444,
              "#bd3786"
             ],
             [
              0.5555555555555556,
              "#d8576b"
             ],
             [
              0.6666666666666666,
              "#ed7953"
             ],
             [
              0.7777777777777778,
              "#fb9f3a"
             ],
             [
              0.8888888888888888,
              "#fdca26"
             ],
             [
              1,
              "#f0f921"
             ]
            ],
            "type": "histogram2dcontour"
           }
          ],
          "mesh3d": [
           {
            "colorbar": {
             "outlinewidth": 0,
             "ticks": ""
            },
            "type": "mesh3d"
           }
          ],
          "parcoords": [
           {
            "line": {
             "colorbar": {
              "outlinewidth": 0,
              "ticks": ""
             }
            },
            "type": "parcoords"
           }
          ],
          "pie": [
           {
            "automargin": true,
            "type": "pie"
           }
          ],
          "scatter": [
           {
            "fillpattern": {
             "fillmode": "overlay",
             "size": 10,
             "solidity": 0.2
            },
            "type": "scatter"
           }
          ],
          "scatter3d": [
           {
            "line": {
             "colorbar": {
              "outlinewidth": 0,
              "ticks": ""
             }
            },
            "marker": {
             "colorbar": {
              "outlinewidth": 0,
              "ticks": ""
             }
            },
            "type": "scatter3d"
           }
          ],
          "scattercarpet": [
           {
            "marker": {
             "colorbar": {
              "outlinewidth": 0,
              "ticks": ""
             }
            },
            "type": "scattercarpet"
           }
          ],
          "scattergeo": [
           {
            "marker": {
             "colorbar": {
              "outlinewidth": 0,
              "ticks": ""
             }
            },
            "type": "scattergeo"
           }
          ],
          "scattergl": [
           {
            "marker": {
             "colorbar": {
              "outlinewidth": 0,
              "ticks": ""
             }
            },
            "type": "scattergl"
           }
          ],
          "scattermapbox": [
           {
            "marker": {
             "colorbar": {
              "outlinewidth": 0,
              "ticks": ""
             }
            },
            "type": "scattermapbox"
           }
          ],
          "scatterpolar": [
           {
            "marker": {
             "colorbar": {
              "outlinewidth": 0,
              "ticks": ""
             }
            },
            "type": "scatterpolar"
           }
          ],
          "scatterpolargl": [
           {
            "marker": {
             "colorbar": {
              "outlinewidth": 0,
              "ticks": ""
             }
            },
            "type": "scatterpolargl"
           }
          ],
          "scatterternary": [
           {
            "marker": {
             "colorbar": {
              "outlinewidth": 0,
              "ticks": ""
             }
            },
            "type": "scatterternary"
           }
          ],
          "surface": [
           {
            "colorbar": {
             "outlinewidth": 0,
             "ticks": ""
            },
            "colorscale": [
             [
              0,
              "#0d0887"
             ],
             [
              0.1111111111111111,
              "#46039f"
             ],
             [
              0.2222222222222222,
              "#7201a8"
             ],
             [
              0.3333333333333333,
              "#9c179e"
             ],
             [
              0.4444444444444444,
              "#bd3786"
             ],
             [
              0.5555555555555556,
              "#d8576b"
             ],
             [
              0.6666666666666666,
              "#ed7953"
             ],
             [
              0.7777777777777778,
              "#fb9f3a"
             ],
             [
              0.8888888888888888,
              "#fdca26"
             ],
             [
              1,
              "#f0f921"
             ]
            ],
            "type": "surface"
           }
          ],
          "table": [
           {
            "cells": {
             "fill": {
              "color": "#EBF0F8"
             },
             "line": {
              "color": "white"
             }
            },
            "header": {
             "fill": {
              "color": "#C8D4E3"
             },
             "line": {
              "color": "white"
             }
            },
            "type": "table"
           }
          ]
         },
         "layout": {
          "annotationdefaults": {
           "arrowcolor": "#2a3f5f",
           "arrowhead": 0,
           "arrowwidth": 1
          },
          "autotypenumbers": "strict",
          "coloraxis": {
           "colorbar": {
            "outlinewidth": 0,
            "ticks": ""
           }
          },
          "colorscale": {
           "diverging": [
            [
             0,
             "#8e0152"
            ],
            [
             0.1,
             "#c51b7d"
            ],
            [
             0.2,
             "#de77ae"
            ],
            [
             0.3,
             "#f1b6da"
            ],
            [
             0.4,
             "#fde0ef"
            ],
            [
             0.5,
             "#f7f7f7"
            ],
            [
             0.6,
             "#e6f5d0"
            ],
            [
             0.7,
             "#b8e186"
            ],
            [
             0.8,
             "#7fbc41"
            ],
            [
             0.9,
             "#4d9221"
            ],
            [
             1,
             "#276419"
            ]
           ],
           "sequential": [
            [
             0,
             "#0d0887"
            ],
            [
             0.1111111111111111,
             "#46039f"
            ],
            [
             0.2222222222222222,
             "#7201a8"
            ],
            [
             0.3333333333333333,
             "#9c179e"
            ],
            [
             0.4444444444444444,
             "#bd3786"
            ],
            [
             0.5555555555555556,
             "#d8576b"
            ],
            [
             0.6666666666666666,
             "#ed7953"
            ],
            [
             0.7777777777777778,
             "#fb9f3a"
            ],
            [
             0.8888888888888888,
             "#fdca26"
            ],
            [
             1,
             "#f0f921"
            ]
           ],
           "sequentialminus": [
            [
             0,
             "#0d0887"
            ],
            [
             0.1111111111111111,
             "#46039f"
            ],
            [
             0.2222222222222222,
             "#7201a8"
            ],
            [
             0.3333333333333333,
             "#9c179e"
            ],
            [
             0.4444444444444444,
             "#bd3786"
            ],
            [
             0.5555555555555556,
             "#d8576b"
            ],
            [
             0.6666666666666666,
             "#ed7953"
            ],
            [
             0.7777777777777778,
             "#fb9f3a"
            ],
            [
             0.8888888888888888,
             "#fdca26"
            ],
            [
             1,
             "#f0f921"
            ]
           ]
          },
          "colorway": [
           "#636efa",
           "#EF553B",
           "#00cc96",
           "#ab63fa",
           "#FFA15A",
           "#19d3f3",
           "#FF6692",
           "#B6E880",
           "#FF97FF",
           "#FECB52"
          ],
          "font": {
           "color": "#2a3f5f"
          },
          "geo": {
           "bgcolor": "white",
           "lakecolor": "white",
           "landcolor": "#E5ECF6",
           "showlakes": true,
           "showland": true,
           "subunitcolor": "white"
          },
          "hoverlabel": {
           "align": "left"
          },
          "hovermode": "closest",
          "mapbox": {
           "style": "light"
          },
          "paper_bgcolor": "white",
          "plot_bgcolor": "#E5ECF6",
          "polar": {
           "angularaxis": {
            "gridcolor": "white",
            "linecolor": "white",
            "ticks": ""
           },
           "bgcolor": "#E5ECF6",
           "radialaxis": {
            "gridcolor": "white",
            "linecolor": "white",
            "ticks": ""
           }
          },
          "scene": {
           "xaxis": {
            "backgroundcolor": "#E5ECF6",
            "gridcolor": "white",
            "gridwidth": 2,
            "linecolor": "white",
            "showbackground": true,
            "ticks": "",
            "zerolinecolor": "white"
           },
           "yaxis": {
            "backgroundcolor": "#E5ECF6",
            "gridcolor": "white",
            "gridwidth": 2,
            "linecolor": "white",
            "showbackground": true,
            "ticks": "",
            "zerolinecolor": "white"
           },
           "zaxis": {
            "backgroundcolor": "#E5ECF6",
            "gridcolor": "white",
            "gridwidth": 2,
            "linecolor": "white",
            "showbackground": true,
            "ticks": "",
            "zerolinecolor": "white"
           }
          },
          "shapedefaults": {
           "line": {
            "color": "#2a3f5f"
           }
          },
          "ternary": {
           "aaxis": {
            "gridcolor": "white",
            "linecolor": "white",
            "ticks": ""
           },
           "baxis": {
            "gridcolor": "white",
            "linecolor": "white",
            "ticks": ""
           },
           "bgcolor": "#E5ECF6",
           "caxis": {
            "gridcolor": "white",
            "linecolor": "white",
            "ticks": ""
           }
          },
          "title": {
           "x": 0.05
          },
          "xaxis": {
           "automargin": true,
           "gridcolor": "white",
           "linecolor": "white",
           "ticks": "",
           "title": {
            "standoff": 15
           },
           "zerolinecolor": "white",
           "zerolinewidth": 2
          },
          "yaxis": {
           "automargin": true,
           "gridcolor": "white",
           "linecolor": "white",
           "ticks": "",
           "title": {
            "standoff": 15
           },
           "zerolinecolor": "white",
           "zerolinewidth": 2
          }
         }
        },
        "title": {
         "text": "Correlation Heatmap (Numeric Variables)",
         "x": 0.5
        },
        "width": 800,
        "xaxis": {
         "autorange": true,
         "dtick": 1,
         "gridcolor": "rgb(0, 0, 0)",
         "range": [
          -0.5,
          6.5
         ],
         "side": "top",
         "tickangle": 45,
         "ticks": "",
         "type": "category"
        },
        "yaxis": {
         "autorange": true,
         "dtick": 1,
         "range": [
          -0.5,
          6.5
         ],
         "ticks": "",
         "ticksuffix": "  ",
         "type": "category"
        }
       }
      },
      "image/png": "[encoded data removed]",
      "text/html": [
       "<div>                            <div id=\"86c5beac-fdf9-4a99-86fb-1b2e62e67a57\" class=\"plotly-graph-div\" style=\"height:700px; width:800px;\"></div>            <script type=\"text/javascript\">                require([\"plotly\"], function(Plotly) {                    window.PLOTLYENV=window.PLOTLYENV || {};                                    if (document.getElementById(\"86c5beac-fdf9-4a99-86fb-1b2e62e67a57\")) {                    Plotly.newPlot(                        \"86c5beac-fdf9-4a99-86fb-1b2e62e67a57\",                        [{\"colorscale\":[[0.0,\"rgb(5,48,97)\"],[0.1,\"rgb(33,102,172)\"],[0.2,\"rgb(67,147,195)\"],[0.3,\"rgb(146,197,222)\"],[0.4,\"rgb(209,229,240)\"],[0.5,\"rgb(247,247,247)\"],[0.6,\"rgb(253,219,199)\"],[0.7,\"rgb(244,165,130)\"],[0.8,\"rgb(214,96,77)\"],[0.9,\"rgb(178,24,43)\"],[1.0,\"rgb(103,0,31)\"]],\"reversescale\":false,\"showscale\":true,\"x\":[\"PassengerId\",\"Survived\",\"Age\",\"SibSp\",\"Parch\",\"Fare\",\"HasCabin\"],\"y\":[\"PassengerId\",\"Survived\",\"Age\",\"SibSp\",\"Parch\",\"Fare\",\"HasCabin\"],\"z\":[[1.0,-0.01,0.02,-0.06,0.01,0.03,-0.0],[-0.01,1.0,-0.06,-0.04,0.08,0.26,0.32],[0.02,-0.06,1.0,-0.2,-0.13,0.2,0.31],[-0.06,-0.04,-0.2,1.0,0.37,0.16,-0.01],[0.01,0.08,-0.13,0.37,1.0,0.22,0.04],[0.03,0.26,0.2,0.16,0.22,1.0,0.51],[-0.0,0.32,0.31,-0.01,0.04,0.51,1.0]],\"zmid\":0,\"type\":\"heatmap\"}],                        {\"annotations\":[{\"font\":{\"color\":\"#FFFFFF\"},\"showarrow\":false,\"text\":\"1.0\",\"x\":\"PassengerId\",\"xref\":\"x\",\"y\":\"PassengerId\",\"yref\":\"y\"},{\"font\":{\"color\":\"#FFFFFF\"},\"showarrow\":false,\"text\":\"-0.01\",\"x\":\"Survived\",\"xref\":\"x\",\"y\":\"PassengerId\",\"yref\":\"y\"},{\"font\":{\"color\":\"#FFFFFF\"},\"showarrow\":false,\"text\":\"0.02\",\"x\":\"Age\",\"xref\":\"x\",\"y\":\"PassengerId\",\"yref\":\"y\"},{\"font\":{\"color\":\"#FFFFFF\"},\"showarrow\":false,\"text\":\"-0.06\",\"x\":\"SibSp\",\"xref\":\"x\",\"y\":\"PassengerId\",\"yref\":\"y\"},{\"font\":{\"color\":\"#FFFFFF\"},\"showarrow\":false,\"text\":\"0.01\",\"x\":\"Parch\",\"xref\":\"x\",\"y\":\"PassengerId\",\"yref\":\"y\"},{\"font\":{\"color\":\"#FFFFFF\"},\"showarrow\":false,\"text\":\"0.03\",\"x\":\"Fare\",\"xref\":\"x\",\"y\":\"PassengerId\",\"yref\":\"y\"},{\"font\":{\"color\":\"#FFFFFF\"},\"showarrow\":false,\"text\":\"-0.0\",\"x\":\"HasCabin\",\"xref\":\"x\",\"y\":\"PassengerId\",\"yref\":\"y\"},{\"font\":{\"color\":\"#FFFFFF\"},\"showarrow\":false,\"text\":\"-0.01\",\"x\":\"PassengerId\",\"xref\":\"x\",\"y\":\"Survived\",\"yref\":\"y\"},{\"font\":{\"color\":\"#FFFFFF\"},\"showarrow\":false,\"text\":\"1.0\",\"x\":\"Survived\",\"xref\":\"x\",\"y\":\"Survived\",\"yref\":\"y\"},{\"font\":{\"color\":\"#FFFFFF\"},\"showarrow\":false,\"text\":\"-0.06\",\"x\":\"Age\",\"xref\":\"x\",\"y\":\"Survived\",\"yref\":\"y\"},{\"font\":{\"color\":\"#FFFFFF\"},\"showarrow\":false,\"text\":\"-0.04\",\"x\":\"SibSp\",\"xref\":\"x\",\"y\":\"Survived\",\"yref\":\"y\"},{\"font\":{\"color\":\"#FFFFFF\"},\"showarrow\":false,\"text\":\"0.08\",\"x\":\"Parch\",\"xref\":\"x\",\"y\":\"Survived\",\"yref\":\"y\"},{\"font\":{\"color\":\"#FFFFFF\"},\"showarrow\":false,\"text\":\"0.26\",\"x\":\"Fare\",\"xref\":\"x\",\"y\":\"Survived\",\"yref\":\"y\"},{\"font\":{\"color\":\"#FFFFFF\"},\"showarrow\":false,\"text\":\"0.32\",\"x\":\"HasCabin\",\"xref\":\"x\",\"y\":\"Survived\",\"yref\":\"y\"},{\"font\":{\"color\":\"#FFFFFF\"},\"showarrow\":false,\"text\":\"0.02\",\"x\":\"PassengerId\",\"xref\":\"x\",\"y\":\"Age\",\"yref\":\"y\"},{\"font\":{\"color\":\"#FFFFFF\"},\"showarrow\":false,\"text\":\"-0.06\",\"x\":\"Survived\",\"xref\":\"x\",\"y\":\"Age\",\"yref\":\"y\"},{\"font\":{\"color\":\"#FFFFFF\"},\"showarrow\":false,\"text\":\"1.0\",\"x\":\"Age\",\"xref\":\"x\",\"y\":\"Age\",\"yref\":\"y\"},{\"font\":{\"color\":\"#FFFFFF\"},\"showarrow\":false,\"text\":\"-0.2\",\"x\":\"SibSp\",\"xref\":\"x\",\"y\":\"Age\",\"yref\":\"y\"},{\"font\":{\"color\":\"#FFFFFF\"},\"showarrow\":false,\"text\":\"-0.13\",\"x\":\"Parch\",\"xref\":\"x\",\"y\":\"Age\",\"yref\":\"y\"},{\"font\":{\"color\":\"#FFFFFF\"},\"showarrow\":false,\"text\":\"0.2\",\"x\":\"Fare\",\"xref\":\"x\",\"y\":\"Age\",\"yref\":\"y\"},{\"font\":{\"color\":\"#FFFFFF\"},\"showarrow\":false,\"text\":\"0.31\",\"x\":\"HasCabin\",\"xref\":\"x\",\"y\":\"Age\",\"yref\":\"y\"},{\"font\":{\"color\":\"#FFFFFF\"},\"showarrow\":false,\"text\":\"-0.06\",\"x\":\"PassengerId\",\"xref\":\"x\",\"y\":\"SibSp\",\"yref\":\"y\"},{\"font\":{\"color\":\"#FFFFFF\"},\"showarrow\":false,\"text\":\"-0.04\",\"x\":\"Survived\",\"xref\":\"x\",\"y\":\"SibSp\",\"yref\":\"y\"},{\"font\":{\"color\":\"#FFFFFF\"},\"showarrow\":false,\"text\":\"-0.2\",\"x\":\"Age\",\"xref\":\"x\",\"y\":\"SibSp\",\"yref\":\"y\"},{\"font\":{\"color\":\"#FFFFFF\"},\"showarrow\":false,\"text\":\"1.0\",\"x\":\"SibSp\",\"xref\":\"x\",\"y\":\"SibSp\",\"yref\":\"y\"},{\"font\":{\"color\":\"#FFFFFF\"},\"showarrow\":false,\"text\":\"0.37\",\"x\":\"Parch\",\"xref\":\"x\",\"y\":\"SibSp\",\"yref\":\"y\"},{\"font\":{\"color\":\"#FFFFFF\"},\"showarrow\":false,\"text\":\"0.16\",\"x\":\"Fare\",\"xref\":\"x\",\"y\":\"SibSp\",\"yref\":\"y\"},{\"font\":{\"color\":\"#FFFFFF\"},\"showarrow\":false,\"text\":\"-0.01\",\"x\":\"HasCabin\",\"xref\":\"x\",\"y\":\"SibSp\",\"yref\":\"y\"},{\"font\":{\"color\":\"#FFFFFF\"},\"showarrow\":false,\"text\":\"0.01\",\"x\":\"PassengerId\",\"xref\":\"x\",\"y\":\"Parch\",\"yref\":\"y\"},{\"font\":{\"color\":\"#FFFFFF\"},\"showarrow\":false,\"text\":\"0.08\",\"x\":\"Survived\",\"xref\":\"x\",\"y\":\"Parch\",\"yref\":\"y\"},{\"font\":{\"color\":\"#FFFFFF\"},\"showarrow\":false,\"text\":\"-0.13\",\"x\":\"Age\",\"xref\":\"x\",\"y\":\"Parch\",\"yref\":\"y\"},{\"font\":{\"color\":\"#FFFFFF\"},\"showarrow\":false,\"text\":\"0.37\",\"x\":\"SibSp\",\"xref\":\"x\",\"y\":\"Parch\",\"yref\":\"y\"},{\"font\":{\"color\":\"#FFFFFF\"},\"showarrow\":false,\"text\":\"1.0\",\"x\":\"Parch\",\"xref\":\"x\",\"y\":\"Parch\",\"yref\":\"y\"},{\"font\":{\"color\":\"#FFFFFF\"},\"showarrow\":false,\"text\":\"0.22\",\"x\":\"Fare\",\"xref\":\"x\",\"y\":\"Parch\",\"yref\":\"y\"},{\"font\":{\"color\":\"#FFFFFF\"},\"showarrow\":false,\"text\":\"0.04\",\"x\":\"HasCabin\",\"xref\":\"x\",\"y\":\"Parch\",\"yref\":\"y\"},{\"font\":{\"color\":\"#FFFFFF\"},\"showarrow\":false,\"text\":\"0.03\",\"x\":\"PassengerId\",\"xref\":\"x\",\"y\":\"Fare\",\"yref\":\"y\"},{\"font\":{\"color\":\"#FFFFFF\"},\"showarrow\":false,\"text\":\"0.26\",\"x\":\"Survived\",\"xref\":\"x\",\"y\":\"Fare\",\"yref\":\"y\"},{\"font\":{\"color\":\"#FFFFFF\"},\"showarrow\":false,\"text\":\"0.2\",\"x\":\"Age\",\"xref\":\"x\",\"y\":\"Fare\",\"yref\":\"y\"},{\"font\":{\"color\":\"#FFFFFF\"},\"showarrow\":false,\"text\":\"0.16\",\"x\":\"SibSp\",\"xref\":\"x\",\"y\":\"Fare\",\"yref\":\"y\"},{\"font\":{\"color\":\"#FFFFFF\"},\"showarrow\":false,\"text\":\"0.22\",\"x\":\"Parch\",\"xref\":\"x\",\"y\":\"Fare\",\"yref\":\"y\"},{\"font\":{\"color\":\"#FFFFFF\"},\"showarrow\":false,\"text\":\"1.0\",\"x\":\"Fare\",\"xref\":\"x\",\"y\":\"Fare\",\"yref\":\"y\"},{\"font\":{\"color\":\"#FFFFFF\"},\"showarrow\":false,\"text\":\"0.51\",\"x\":\"HasCabin\",\"xref\":\"x\",\"y\":\"Fare\",\"yref\":\"y\"},{\"font\":{\"color\":\"#FFFFFF\"},\"showarrow\":false,\"text\":\"-0.0\",\"x\":\"PassengerId\",\"xref\":\"x\",\"y\":\"HasCabin\",\"yref\":\"y\"},{\"font\":{\"color\":\"#FFFFFF\"},\"showarrow\":false,\"text\":\"0.32\",\"x\":\"Survived\",\"xref\":\"x\",\"y\":\"HasCabin\",\"yref\":\"y\"},{\"font\":{\"color\":\"#FFFFFF\"},\"showarrow\":false,\"text\":\"0.31\",\"x\":\"Age\",\"xref\":\"x\",\"y\":\"HasCabin\",\"yref\":\"y\"},{\"font\":{\"color\":\"#FFFFFF\"},\"showarrow\":false,\"text\":\"-0.01\",\"x\":\"SibSp\",\"xref\":\"x\",\"y\":\"HasCabin\",\"yref\":\"y\"},{\"font\":{\"color\":\"#FFFFFF\"},\"showarrow\":false,\"text\":\"0.04\",\"x\":\"Parch\",\"xref\":\"x\",\"y\":\"HasCabin\",\"yref\":\"y\"},{\"font\":{\"color\":\"#FFFFFF\"},\"showarrow\":false,\"text\":\"0.51\",\"x\":\"Fare\",\"xref\":\"x\",\"y\":\"HasCabin\",\"yref\":\"y\"},{\"font\":{\"color\":\"#FFFFFF\"},\"showarrow\":false,\"text\":\"1.0\",\"x\":\"HasCabin\",\"xref\":\"x\",\"y\":\"HasCabin\",\"yref\":\"y\"}],\"xaxis\":{\"dtick\":1,\"gridcolor\":\"rgb(0, 0, 0)\",\"side\":\"top\",\"ticks\":\"\",\"tickangle\":45},\"yaxis\":{\"dtick\":1,\"ticks\":\"\",\"ticksuffix\":\"  \"},\"template\":{\"data\":{\"histogram2dcontour\":[{\"type\":\"histogram2dcontour\",\"colorbar\":{\"outlinewidth\":0,\"ticks\":\"\"},\"colorscale\":[[0.0,\"#0d0887\"],[0.1111111111111111,\"#46039f\"],[0.2222222222222222,\"#7201a8\"],[0.3333333333333333,\"#9c179e\"],[0.4444444444444444,\"#bd3786\"],[0.5555555555555556,\"#d8576b\"],[0.6666666666666666,\"#ed7953\"],[0.7777777777777778,\"#fb9f3a\"],[0.8888888888888888,\"#fdca26\"],[1.0,\"#f0f921\"]]}],\"choropleth\":[{\"type\":\"choropleth\",\"colorbar\":{\"outlinewidth\":0,\"ticks\":\"\"}}],\"histogram2d\":[{\"type\":\"histogram2d\",\"colorbar\":{\"outlinewidth\":0,\"ticks\":\"\"},\"colorscale\":[[0.0,\"#0d0887\"],[0.1111111111111111,\"#46039f\"],[0.2222222222222222,\"#7201a8\"],[0.3333333333333333,\"#9c179e\"],[0.4444444444444444,\"#bd3786\"],[0.5555555555555556,\"#d8576b\"],[0.6666666666666666,\"#ed7953\"],[0.7777777777777778,\"#fb9f3a\"],[0.8888888888888888,\"#fdca26\"],[1.0,\"#f0f921\"]]}],\"heatmap\":[{\"type\":\"heatmap\",\"colorbar\":{\"outlinewidth\":0,\"ticks\":\"\"},\"colorscale\":[[0.0,\"#0d0887\"],[0.1111111111111111,\"#46039f\"],[0.2222222222222222,\"#7201a8\"],[0.3333333333333333,\"#9c179e\"],[0.4444444444444444,\"#bd3786\"],[0.5555555555555556,\"#d8576b\"],[0.6666666666666666,\"#ed7953\"],[0.7777777777777778,\"#fb9f3a\"],[0.8888888888888888,\"#fdca26\"],[1.0,\"#f0f921\"]]}],\"heatmapgl\":[{\"type\":\"heatmapgl\",\"colorbar\":{\"outlinewidth\":0,\"ticks\":\"\"},\"colorscale\":[[0.0,\"#0d0887\"],[0.1111111111111111,\"#46039f\"],[0.2222222222222222,\"#7201a8\"],[0.3333333333333333,\"#9c179e\"],[0.4444444444444444,\"#bd3786\"],[0.5555555555555556,\"#d8576b\"],[0.6666666666666666,\"#ed7953\"],[0.7777777777777778,\"#fb9f3a\"],[0.8888888888888888,\"#fdca26\"],[1.0,\"#f0f921\"]]}],\"contourcarpet\":[{\"type\":\"contourcarpet\",\"colorbar\":{\"outlinewidth\":0,\"ticks\":\"\"}}],\"contour\":[{\"type\":\"contour\",\"colorbar\":{\"outlinewidth\":0,\"ticks\":\"\"},\"colorscale\":[[0.0,\"#0d0887\"],[0.1111111111111111,\"#46039f\"],[0.2222222222222222,\"#7201a8\"],[0.3333333333333333,\"#9c179e\"],[0.4444444444444444,\"#bd3786\"],[0.5555555555555556,\"#d8576b\"],[0.6666666666666666,\"#ed7953\"],[0.7777777777777778,\"#fb9f3a\"],[0.8888888888888888,\"#fdca26\"],[1.0,\"#f0f921\"]]}],\"surface\":[{\"type\":\"surface\",\"colorbar\":{\"outlinewidth\":0,\"ticks\":\"\"},\"colorscale\":[[0.0,\"#0d0887\"],[0.1111111111111111,\"#46039f\"],[0.2222222222222222,\"#7201a8\"],[0.3333333333333333,\"#9c179e\"],[0.4444444444444444,\"#bd3786\"],[0.5555555555555556,\"#d8576b\"],[0.6666666666666666,\"#ed7953\"],[0.7777777777777778,\"#fb9f3a\"],[0.8888888888888888,\"#fdca26\"],[1.0,\"#f0f921\"]]}],\"mesh3d\":[{\"type\":\"mesh3d\",\"colorbar\":{\"outlinewidth\":0,\"ticks\":\"\"}}],\"scatter\":[{\"fillpattern\":{\"fillmode\":\"overlay\",\"size\":10,\"solidity\":0.2},\"type\":\"scatter\"}],\"parcoords\":[{\"type\":\"parcoords\",\"line\":{\"colorbar\":{\"outlinewidth\":0,\"ticks\":\"\"}}}],\"scatterpolargl\":[{\"type\":\"scatterpolargl\",\"marker\":{\"colorbar\":{\"outlinewidth\":0,\"ticks\":\"\"}}}],\"bar\":[{\"error_x\":{\"color\":\"#2a3f5f\"},\"error_y\":{\"color\":\"#2a3f5f\"},\"marker\":{\"line\":{\"color\":\"#E5ECF6\",\"width\":0.5},\"pattern\":{\"fillmode\":\"overlay\",\"size\":10,\"solidity\":0.2}},\"type\":\"bar\"}],\"scattergeo\":[{\"type\":\"scattergeo\",\"marker\":{\"colorbar\":{\"outlinewidth\":0,\"ticks\":\"\"}}}],\"scatterpolar\":[{\"type\":\"scatterpolar\",\"marker\":{\"colorbar\":{\"outlinewidth\":0,\"ticks\":\"\"}}}],\"histogram\":[{\"marker\":{\"pattern\":{\"fillmode\":\"overlay\",\"size\":10,\"solidity\":0.2}},\"type\":\"histogram\"}],\"scattergl\":[{\"type\":\"scattergl\",\"marker\":{\"colorbar\":{\"outlinewidth\":0,\"ticks\":\"\"}}}],\"scatter3d\":[{\"type\":\"scatter3d\",\"line\":{\"colorbar\":{\"outlinewidth\":0,\"ticks\":\"\"}},\"marker\":{\"colorbar\":{\"outlinewidth\":0,\"ticks\":\"\"}}}],\"scattermapbox\":[{\"type\":\"scattermapbox\",\"marker\":{\"colorbar\":{\"outlinewidth\":0,\"ticks\":\"\"}}}],\"scatterternary\":[{\"type\":\"scatterternary\",\"marker\":{\"colorbar\":{\"outlinewidth\":0,\"ticks\":\"\"}}}],\"scattercarpet\":[{\"type\":\"scattercarpet\",\"marker\":{\"colorbar\":{\"outlinewidth\":0,\"ticks\":\"\"}}}],\"carpet\":[{\"aaxis\":{\"endlinecolor\":\"#2a3f5f\",\"gridcolor\":\"white\",\"linecolor\":\"white\",\"minorgridcolor\":\"white\",\"startlinecolor\":\"#2a3f5f\"},\"baxis\":{\"endlinecolor\":\"#2a3f5f\",\"gridcolor\":\"white\",\"linecolor\":\"white\",\"minorgridcolor\":\"white\",\"startlinecolor\":\"#2a3f5f\"},\"type\":\"carpet\"}],\"table\":[{\"cells\":{\"fill\":{\"color\":\"#EBF0F8\"},\"line\":{\"color\":\"white\"}},\"header\":{\"fill\":{\"color\":\"#C8D4E3\"},\"line\":{\"color\":\"white\"}},\"type\":\"table\"}],\"barpolar\":[{\"marker\":{\"line\":{\"color\":\"#E5ECF6\",\"width\":0.5},\"pattern\":{\"fillmode\":\"overlay\",\"size\":10,\"solidity\":0.2}},\"type\":\"barpolar\"}],\"pie\":[{\"automargin\":true,\"type\":\"pie\"}]},\"layout\":{\"autotypenumbers\":\"strict\",\"colorway\":[\"#636efa\",\"#EF553B\",\"#00cc96\",\"#ab63fa\",\"#FFA15A\",\"#19d3f3\",\"#FF6692\",\"#B6E880\",\"#FF97FF\",\"#FECB52\"],\"font\":{\"color\":\"#2a3f5f\"},\"hovermode\":\"closest\",\"hoverlabel\":{\"align\":\"left\"},\"paper_bgcolor\":\"white\",\"plot_bgcolor\":\"#E5ECF6\",\"polar\":{\"bgcolor\":\"#E5ECF6\",\"angularaxis\":{\"gridcolor\":\"white\",\"linecolor\":\"white\",\"ticks\":\"\"},\"radialaxis\":{\"gridcolor\":\"white\",\"linecolor\":\"white\",\"ticks\":\"\"}},\"ternary\":{\"bgcolor\":\"#E5ECF6\",\"aaxis\":{\"gridcolor\":\"white\",\"linecolor\":\"white\",\"ticks\":\"\"},\"baxis\":{\"gridcolor\":\"white\",\"linecolor\":\"white\",\"ticks\":\"\"},\"caxis\":{\"gridcolor\":\"white\",\"linecolor\":\"white\",\"ticks\":\"\"}},\"coloraxis\":{\"colorbar\":{\"outlinewidth\":0,\"ticks\":\"\"}},\"colorscale\":{\"sequential\":[[0.0,\"#0d0887\"],[0.1111111111111111,\"#46039f\"],[0.2222222222222222,\"#7201a8\"],[0.3333333333333333,\"#9c179e\"],[0.4444444444444444,\"#bd3786\"],[0.5555555555555556,\"#d8576b\"],[0.6666666666666666,\"#ed7953\"],[0.7777777777777778,\"#fb9f3a\"],[0.8888888888888888,\"#fdca26\"],[1.0,\"#f0f921\"]],\"sequentialminus\":[[0.0,\"#0d0887\"],[0.1111111111111111,\"#46039f\"],[0.2222222222222222,\"#7201a8\"],[0.3333333333333333,\"#9c179e\"],[0.4444444444444444,\"#bd3786\"],[0.5555555555555556,\"#d8576b\"],[0.6666666666666666,\"#ed7953\"],[0.7777777777777778,\"#fb9f3a\"],[0.8888888888888888,\"#fdca26\"],[1.0,\"#f0f921\"]],\"diverging\":[[0,\"#8e0152\"],[0.1,\"#c51b7d\"],[0.2,\"#de77ae\"],[0.3,\"#f1b6da\"],[0.4,\"#fde0ef\"],[0.5,\"#f7f7f7\"],[0.6,\"#e6f5d0\"],[0.7,\"#b8e186\"],[0.8,\"#7fbc41\"],[0.9,\"#4d9221\"],[1,\"#276419\"]]},\"xaxis\":{\"gridcolor\":\"white\",\"linecolor\":\"white\",\"ticks\":\"\",\"title\":{\"standoff\":15},\"zerolinecolor\":\"white\",\"automargin\":true,\"zerolinewidth\":2},\"yaxis\":{\"gridcolor\":\"white\",\"linecolor\":\"white\",\"ticks\":\"\",\"title\":{\"standoff\":15},\"zerolinecolor\":\"white\",\"automargin\":true,\"zerolinewidth\":2},\"scene\":{\"xaxis\":{\"backgroundcolor\":\"#E5ECF6\",\"gridcolor\":\"white\",\"linecolor\":\"white\",\"showbackground\":true,\"ticks\":\"\",\"zerolinecolor\":\"white\",\"gridwidth\":2},\"yaxis\":{\"backgroundcolor\":\"#E5ECF6\",\"gridcolor\":\"white\",\"linecolor\":\"white\",\"showbackground\":true,\"ticks\":\"\",\"zerolinecolor\":\"white\",\"gridwidth\":2},\"zaxis\":{\"backgroundcolor\":\"#E5ECF6\",\"gridcolor\":\"white\",\"linecolor\":\"white\",\"showbackground\":true,\"ticks\":\"\",\"zerolinecolor\":\"white\",\"gridwidth\":2}},\"shapedefaults\":{\"line\":{\"color\":\"#2a3f5f\"}},\"annotationdefaults\":{\"arrowcolor\":\"#2a3f5f\",\"arrowhead\":0,\"arrowwidth\":1},\"geo\":{\"bgcolor\":\"white\",\"landcolor\":\"#E5ECF6\",\"subunitcolor\":\"white\",\"showland\":true,\"showlakes\":true,\"lakecolor\":\"white\"},\"title\":{\"x\":0.05},\"mapbox\":{\"style\":\"light\"}}},\"title\":{\"text\":\"Correlation Heatmap (Numeric Variables)\",\"x\":0.5},\"width\":800,\"height\":700},                        {\"responsive\": true}                    ).then(function(){\n",
       "                            \n",
       "var gd = document.getElementById('86c5beac-fdf9-4a99-86fb-1b2e62e67a57');\n",
       "var x = new MutationObserver(function (mutations, observer) {{\n",
       "        var display = window.getComputedStyle(gd).display;\n",
       "        if (!display || display === 'none') {{\n",
       "            console.log([gd, 'removed!']);\n",
       "            Plotly.purge(gd);\n",
       "            observer.disconnect();\n",
       "        }}\n",
       "}});\n",
       "\n",
       "// Listen for the removal of the full notebook cells\n",
       "var notebookContainer = gd.closest('#notebook-container');\n",
       "if (notebookContainer) {{\n",
       "    x.observe(notebookContainer, {childList: true});\n",
       "}}\n",
       "\n",
       "// Listen for the clearing of the current output cell\n",
       "var outputEl = gd.closest('.output');\n",
       "if (outputEl) {{\n",
       "    x.observe(outputEl, {childList: true});\n",
       "}}\n",
       "\n",
       "                        })                };                });            </script>        </div>"
      ]
     },
     "metadata": {},
     "output_type": "display_data"
    }
   ],
   "source": [
    "# Select numeric columns\n",
    "numeric_df = df.select_dtypes(include=[np.number])\n",
    "\n",
    "if not numeric_df.empty:\n",
    "    corr = numeric_df.corr(numeric_only=True)\n",
    "\n",
    "    # Create annotated heatmap\n",
    "    fig = ff.create_annotated_heatmap(\n",
    "        z=corr.values.round(2),   # round to 2 decimals\n",
    "        x=list(corr.columns),\n",
    "        y=list(corr.index),\n",
    "        annotation_text=corr.round(2).values,\n",
    "        colorscale=\"RdBu_r\",\n",
    "        showscale=True,\n",
    "        zmid=0  # center around 0 correlation\n",
    "    )\n",
    "\n",
    "    fig.update_layout(\n",
    "        title=\"Correlation Heatmap (Numeric Variables)\",\n",
    "        title_x=0.5,\n",
    "        width=800,\n",
    "        height=700,\n",
    "        xaxis=dict(tickangle=45)\n",
    "    )\n",
    "\n",
    "    fig.show()\n",
    "else:\n",
    "    print(\"Skipping Plot 5: no numeric columns available.\")\n"
   ]
  },
  {
   "cell_type": "markdown",
   "id": "c51b2996-4ed3-4bf6-aa83-c063ce9a9bcf",
   "metadata": {
    "jp-MarkdownHeadingCollapsed": true
   },
   "source": [
    "# Micro-Project 3: Machine Learning Project 1 of 2"
   ]
  },
  {
   "attachments": {},
   "cell_type": "markdown",
   "id": "0659841f-8a50-4af7-99a8-8f0e8833515c",
   "metadata": {},
   "source": [
    "##### Logistic Regression Model"
   ]
  },
  {
   "cell_type": "code",
   "execution_count": 128,
   "id": "a7fedade-0d6d-4fda-bd9f-eabfc2843f81",
   "metadata": {},
   "outputs": [],
   "source": [
    "# Define features and target\n",
    "X = df.drop('Survived', axis=1)\n",
    "y = df['Survived']\n",
    "\n",
    "# Drop rows where target is missing\n",
    "X = X[df['Survived'].notna()]\n",
    "y = df['Survived'].dropna()\n",
    "\n",
    "\n",
    "# Train/test split\n",
    "X_train, X_test, y_train, y_test = train_test_split(X, y, test_size=0.2, random_state=42)"
   ]
  },
  {
   "cell_type": "code",
   "execution_count": 130,
   "id": "2afb2b8e-0fa7-43bc-a002-dc7ad2eeb7db",
   "metadata": {},
   "outputs": [],
   "source": [
    "# Drop any string/categorical columns that aren’t already encoded\n",
    "X_clean = X.select_dtypes(include=['int64', 'float64']).copy()\n",
    "\n",
    "# Train/test split again with cleaned features\n",
    "X_train, X_test, y_train, y_test = train_test_split(X_clean, y, test_size=0.2, random_state=42)\n"
   ]
  },
  {
   "cell_type": "code",
   "execution_count": 132,
   "id": "0ca8b794-33c6-4dde-a416-14cb34fef9eb",
   "metadata": {},
   "outputs": [
    {
     "name": "stdout",
     "output_type": "stream",
     "text": [
      "=== Logistic Regression Performance ===\n",
      "Accuracy: 0.687\n",
      "              precision    recall  f1-score   support\n",
      "\n",
      "         0.0       0.66      0.95      0.78       105\n",
      "         1.0       0.82      0.31      0.45        74\n",
      "\n",
      "    accuracy                           0.69       179\n",
      "   macro avg       0.74      0.63      0.62       179\n",
      "weighted avg       0.73      0.69      0.64       179\n",
      "\n"
     ]
    }
   ],
   "source": [
    "logreg = Pipeline([\n",
    "    ('scaler', StandardScaler()),\n",
    "    ('model', LogisticRegression(solver='liblinear'))\n",
    "])\n",
    "\n",
    "logreg.fit(X_train, y_train)\n",
    "y_pred_log = logreg.predict(X_test)\n",
    "\n",
    "from sklearn.metrics import accuracy_score, classification_report\n",
    "\n",
    "print(\"=== Logistic Regression Performance ===\")\n",
    "print(f\"Accuracy: {accuracy_score(y_test, y_pred_log):.3f}\")\n",
    "print(classification_report(y_test, y_pred_log))\n"
   ]
  },
  {
   "cell_type": "code",
   "execution_count": 134,
   "id": "85244084-44f0-49be-b875-c8c405e19c0b",
   "metadata": {},
   "outputs": [
    {
     "data": {
      "image/png": "[encoded data removed]",
      "text/plain": [
       "<Figure size 800x500 with 1 Axes>"
      ]
     },
     "metadata": {},
     "output_type": "display_data"
    }
   ],
   "source": [
    "# Get metrics as dictionary\n",
    "report = classification_report(y_test, y_pred_log, output_dict=True)\n",
    "\n",
    "# Extract precision, recall, f1-score for each class\n",
    "labels = ['Did Not Survive (0)', 'Survived (1)']\n",
    "precision = [report['0.0']['precision'], report['1.0']['precision']]\n",
    "recall = [report['0.0']['recall'], report['1.0']['recall']]\n",
    "f1 = [report['0.0']['f1-score'], report['1.0']['f1-score']]\n",
    "\n",
    "# Set up bar positions\n",
    "x = np.arange(len(labels))\n",
    "width = 0.25\n",
    "\n",
    "# Plot bars\n",
    "plt.figure(figsize=(8, 5))\n",
    "plt.bar(x - width, precision, width, label='Precision')\n",
    "plt.bar(x, recall, width, label='Recall')\n",
    "plt.bar(x + width, f1, width, label='F1-Score')\n",
    "\n",
    "# Labels and styling\n",
    "plt.ylabel('Score')\n",
    "plt.title('Logistic Regression Metrics by Class')\n",
    "plt.xticks(x, labels)\n",
    "plt.ylim(0, 1.05)\n",
    "plt.legend()\n",
    "plt.tight_layout()\n",
    "plt.show()"
   ]
  },
  {
   "cell_type": "markdown",
   "id": "a95c4108-4d39-491d-93e7-6f6b27dd1e83",
   "metadata": {},
   "source": [
    "Here, I used logistic regression to predict who survived the Titanic using passenger data. The model was good at spotting who didn’t survive, but it struggled to correctly identify many of the actual survivors. Overall, it's cautious about predicting survival and errs on the side of assuming people died.\n",
    "\n",
    "The model struggled likely due to class imbalance, weak or missing features, and no feature engineering or hyperparameter tuning. It mostly learned to predict death because the inputs didn’t provide enough signal to separate survivors from non-survivors.\n"
   ]
  },
  {
   "cell_type": "markdown",
   "id": "db3bf2e2-93aa-46e3-b67d-2d05cffe3e59",
   "metadata": {},
   "source": [
    "##### Logistic Regression Model Try #2"
   ]
  },
  {
   "cell_type": "code",
   "execution_count": 150,
   "id": "5d64e0b8-c617-47b4-a0b4-6f2805430e0d",
   "metadata": {},
   "outputs": [],
   "source": [
    "# Load dataset (update the path if needed)\n",
    "df = pd.read_csv(r\"C:\\Users\\divin\\Documents\\ANA_500\\week_2\\titanic.csv\")\n",
    "\n",
    "# Drop columns that won’t help the model\n",
    "df = df.drop(columns=['Name', 'Ticket', 'Cabin'])\n",
    "\n",
    "# Fill missing Age values with median\n",
    "df['Age'] = df['Age'].fillna(df['Age'].median())\n",
    "\n",
    "# Fill missing Embarked values with mode\n",
    "df['Embarked'] = df['Embarked'].fillna(df['Embarked'].mode()[0])\n",
    "\n",
    "# Convert categorical to numeric\n",
    "df['Sex'] = df['Sex'].map({'male': 0, 'female': 1})\n",
    "df['Embarked'] = df['Embarked'].map({'S': 0, 'C': 1, 'Q': 2})\n",
    "\n",
    "# Drop rows with any remaining NaNs just in case\n",
    "df = df.dropna()\n"
   ]
  },
  {
   "cell_type": "code",
   "execution_count": 152,
   "id": "560f829a-686d-4108-9ed1-f713c11ac419",
   "metadata": {},
   "outputs": [],
   "source": [
    "# Define features and target\n",
    "features = ['Pclass', 'Sex', 'Age', 'SibSp', 'Parch', 'Fare', 'Embarked']\n",
    "X = df[features]\n",
    "y = df['Survived']\n",
    "\n",
    "# Train/test split\n",
    "X_train, X_test, y_train, y_test = train_test_split(X, y, test_size=0.2, random_state=42)"
   ]
  },
  {
   "cell_type": "code",
   "execution_count": 154,
   "id": "81e25463-8bdd-4c79-b6c0-59e57c2449dc",
   "metadata": {},
   "outputs": [
    {
     "name": "stdout",
     "output_type": "stream",
     "text": [
      "=== Logistic Regression Performance ===\n",
      "Accuracy: 0.799\n",
      "              precision    recall  f1-score   support\n",
      "\n",
      "         0.0       0.82      0.85      0.83       105\n",
      "         1.0       0.77      0.73      0.75        74\n",
      "\n",
      "    accuracy                           0.80       179\n",
      "   macro avg       0.79      0.79      0.79       179\n",
      "weighted avg       0.80      0.80      0.80       179\n",
      "\n"
     ]
    }
   ],
   "source": [
    "# Build pipeline\n",
    "logreg = Pipeline([\n",
    "    ('scaler', StandardScaler()),\n",
    "    ('model', LogisticRegression(solver='liblinear'))\n",
    "])\n",
    "\n",
    "# Fit and predict\n",
    "logreg.fit(X_train, y_train)\n",
    "y_pred_log = logreg.predict(X_test)\n",
    "\n",
    "# Evaluate\n",
    "print(\"=== Logistic Regression Performance ===\")\n",
    "print(f\"Accuracy: {accuracy_score(y_test, y_pred_log):.3f}\")\n",
    "print(classification_report(y_test, y_pred_log))"
   ]
  },
  {
   "cell_type": "code",
   "execution_count": 156,
   "id": "1eca2a62-e61d-40c6-bdab-0c555933969b",
   "metadata": {},
   "outputs": [
    {
     "data": {
      "image/png": "[encoded data removed]",
      "text/plain": [
       "<Figure size 800x500 with 1 Axes>"
      ]
     },
     "metadata": {},
     "output_type": "display_data"
    }
   ],
   "source": [
    "# Generate classification report as dictionary\n",
    "report = classification_report(y_test, y_pred_log, output_dict=True)\n",
    "\n",
    "# Extract precision, recall, f1-score for each class\n",
    "labels = ['Did Not Survive (0)', 'Survived (1)']\n",
    "precision = [report['0.0']['precision'], report['1.0']['precision']]\n",
    "recall = [report['0.0']['recall'], report['1.0']['recall']]\n",
    "f1 = [report['0.0']['f1-score'], report['1.0']['f1-score']]\n",
    "\n",
    "# Set up bar positions\n",
    "x = np.arange(len(labels))\n",
    "width = 0.25\n",
    "\n",
    "# Plot bars\n",
    "plt.figure(figsize=(8, 5))\n",
    "plt.bar(x - width, precision, width, label='Precision')\n",
    "plt.bar(x, recall, width, label='Recall')\n",
    "plt.bar(x + width, f1, width, label='F1-Score')\n",
    "\n",
    "# Labels and styling\n",
    "plt.ylabel('Score')\n",
    "plt.title('Logistic Regression Metrics by Class (After Preprocessing)')\n",
    "plt.xticks(x, labels)\n",
    "plt.ylim(0, 1.05)\n",
    "plt.legend()\n",
    "plt.tight_layout()\n",
    "plt.show()"
   ]
  },
  {
   "cell_type": "markdown",
   "id": "5b38ad4a-a096-4ab4-be86-408cbbcac00f",
   "metadata": {},
   "source": [
    "After cleaning up the data and focusing on better features (like passenger class, gender, and who they were traveling with), the logistic regression model became much smarter. Instead of mostly guessing that people didn’t survive (which it did before), it now gets both survivors and non-survivors right more often—correctly predicting survival about 80% of the time. The model no longer favors one outcome over the other and gives us a more balanced and fair prediction overall."
   ]
  },
  {
   "cell_type": "markdown",
   "id": "d95a4563-b641-4c28-b111-efe51a98ccb1",
   "metadata": {},
   "source": [
    "##### Support Vector Classifier"
   ]
  },
  {
   "cell_type": "code",
   "execution_count": 158,
   "id": "35fc66dd-a50c-464d-8f97-ae5b048aa8c7",
   "metadata": {},
   "outputs": [],
   "source": [
    "svc = Pipeline([\n",
    "    ('scaler', StandardScaler()),\n",
    "    ('model', SVC(kernel='rbf', C=1.0, gamma='scale'))  # RBF kernel = flexible, good start\n",
    "])\n",
    "\n",
    "svc.fit(X_train, y_train)\n",
    "y_pred_svc = svc.predict(X_test)\n"
   ]
  },
  {
   "cell_type": "code",
   "execution_count": 160,
   "id": "bd0b7993-e360-4496-b43c-957ae341c293",
   "metadata": {},
   "outputs": [
    {
     "name": "stdout",
     "output_type": "stream",
     "text": [
      "=== SVC Performance ===\n",
      "Accuracy: 0.821\n",
      "              precision    recall  f1-score   support\n",
      "\n",
      "         0.0       0.81      0.90      0.86       105\n",
      "         1.0       0.84      0.70      0.76        74\n",
      "\n",
      "    accuracy                           0.82       179\n",
      "   macro avg       0.83      0.80      0.81       179\n",
      "weighted avg       0.82      0.82      0.82       179\n",
      "\n"
     ]
    }
   ],
   "source": [
    "print(\"=== SVC Performance ===\")\n",
    "print(f\"Accuracy: {accuracy_score(y_test, y_pred_svc):.3f}\")\n",
    "print(classification_report(y_test, y_pred_svc))"
   ]
  },
  {
   "cell_type": "code",
   "execution_count": 162,
   "id": "aba2f6fa-f2fc-44a8-8fa5-32a544d4ed4f",
   "metadata": {},
   "outputs": [
    {
     "data": {
      "image/png": "[encoded data removed]",
      "text/plain": [
       "<Figure size 700x400 with 1 Axes>"
      ]
     },
     "metadata": {},
     "output_type": "display_data"
    }
   ],
   "source": [
    "metrics = ['Precision', 'Recall', 'F1-Score']\n",
    "class_0 = [0.72, 0.93, 0.81]\n",
    "class_1 = [0.83, 0.47, 0.60]\n",
    "\n",
    "x = range(len(metrics))\n",
    "\n",
    "plt.figure(figsize=(7, 4))\n",
    "plt.plot(x, class_0, marker='o', linestyle='--', label='Did Not Survive (0)')\n",
    "plt.plot(x, class_1, marker='s', linestyle='-', label='Survived (1)')\n",
    "\n",
    "plt.xticks(x, metrics)\n",
    "plt.ylim(0, 1.05)\n",
    "plt.ylabel('Score')\n",
    "plt.title('SVC Performance by Class (Line Plot)')\n",
    "plt.legend()\n",
    "plt.grid(True, linestyle='--', alpha=0.5)\n",
    "plt.tight_layout()\n",
    "plt.show()"
   ]
  },
  {
   "cell_type": "markdown",
   "id": "a3a3e484-8ab3-47f3-b209-9b928bb3cb22",
   "metadata": {},
   "source": [
    "After cleaning the data, I used a Support Vector Classifier (SVC) to predict survival on the Titanic. The model performed well in identifying passengers who did not survive but struggled to correctly identify those who did. This resulted in higher accuracy for the majority class but lower recall for the minority class of survivors."
   ]
  },
  {
   "cell_type": "markdown",
   "id": "54ad1992-b8af-439a-90d1-d3ca104badac",
   "metadata": {},
   "source": [
    "##### Linear Regression Model"
   ]
  },
  {
   "cell_type": "code",
   "execution_count": 164,
   "id": "0a95bbb4-97f6-4f99-980b-ddc08b19c66e",
   "metadata": {},
   "outputs": [
    {
     "name": "stdout",
     "output_type": "stream",
     "text": [
      "=== Linear Regression Performance ===\n",
      "Mean Squared Error: 0.1359\n",
      "R² Score: 0.4398\n",
      "Accuracy (thresholded): 0.788\n"
     ]
    }
   ],
   "source": [
    "X = df.drop('Survived', axis=1)\n",
    "y = df['Survived']\n",
    "\n",
    "# 2. Train/test split\n",
    "X_train, X_test, y_train, y_test = train_test_split(X, y, test_size=0.2, random_state=42)\n",
    "\n",
    "# 3. Fit the Linear Regression model\n",
    "linreg = LinearRegression()\n",
    "linreg.fit(X_train, y_train)\n",
    "\n",
    "# 4. Predict (outputs continuous values, not binary)\n",
    "y_pred_continuous = linreg.predict(X_test)\n",
    "\n",
    "# 5. Convert predictions to 0/1 using a threshold (0.5)\n",
    "y_pred_binary = (y_pred_continuous >= 0.5).astype(int)\n",
    "\n",
    "# 6. Evaluation\n",
    "mse = mean_squared_error(y_test, y_pred_continuous)\n",
    "r2 = r2_score(y_test, y_pred_continuous)\n",
    "acc = accuracy_score(y_test, y_pred_binary)\n",
    "\n",
    "print(\"=== Linear Regression Performance ===\")\n",
    "print(f\"Mean Squared Error: {mse:.4f}\")\n",
    "print(f\"R² Score: {r2:.4f}\")\n",
    "print(f\"Accuracy (thresholded): {acc:.3f}\")"
   ]
  },
  {
   "cell_type": "markdown",
   "id": "628d993f-f2d7-4feb-b604-0d67afd27241",
   "metadata": {},
   "source": [
    "I used Linear Regression to predict survival on the Titanic, even though it's really designed for predicting numbers — not yes/no outcomes. The model gave everyone a score between 0 and 1, kind of like saying, “this person has a 0.3 chance of surviving.” I turned that into a yes/no by saying if the score was over 0.5, I’d count it as a 1 (survived), and below that as a 0 (did not survive).\n",
    "\n",
    "When I checked how often that matched the real outcomes, the model was about 78.8% accurate. Not bad on the surface, but Linear Regression just draws a line—it doesn’t really “get” categories. That’s why models like Logistic Regression or SVC are more suited for problems like this."
   ]
  },
  {
   "cell_type": "code",
   "execution_count": 166,
   "id": "5b2772d7-d70f-46ad-aaf6-60365589732c",
   "metadata": {},
   "outputs": [
    {
     "data": {
      "image/png": "[encoded data removed]",
      "text/plain": [
       "<Figure size 800x500 with 1 Axes>"
      ]
     },
     "metadata": {},
     "output_type": "display_data"
    }
   ],
   "source": [
    "# Generate classification report\n",
    "report_linreg = classification_report(y_test, y_pred_binary, output_dict=True)\n",
    "\n",
    "# Extract precision, recall, and F1 scores for both classes\n",
    "labels = ['Did Not Survive (0)', 'Survived (1)']\n",
    "precision = [report_linreg['0.0']['precision'], report_linreg['1.0']['precision']]\n",
    "recall = [report_linreg['0.0']['recall'], report_linreg['1.0']['recall']]\n",
    "f1 = [report_linreg['0.0']['f1-score'], report_linreg['1.0']['f1-score']]\n",
    "\n",
    "# Set up bar positions\n",
    "x = np.arange(len(labels))\n",
    "width = 0.25\n",
    "\n",
    "# Plot the bar chart\n",
    "plt.figure(figsize=(8, 5))\n",
    "plt.bar(x - width, precision, width, label='Precision')\n",
    "plt.bar(x, recall, width, label='Recall')\n",
    "plt.bar(x + width, f1, width, label='F1-Score')\n",
    "\n",
    "# Labels and styling\n",
    "plt.ylabel('Score')\n",
    "plt.title('Linear Regression (Thresholded) Metrics by Class')\n",
    "plt.xticks(x, labels)\n",
    "plt.ylim(0, 1.05)\n",
    "plt.legend()\n",
    "plt.tight_layout()\n",
    "plt.show()"
   ]
  },
  {
   "cell_type": "markdown",
   "id": "f2883bc7-a350-4fba-b1c2-a09af9628cd1",
   "metadata": {},
   "source": [
    "I used linear regression to predict survival on the Titanic, then applied a 0.5 threshold to turn the continuous outputs into binary classifications. The bar chart shows that the model performed fairly evenly across both classes, but it's still not as tailored for classification as logistic regression or SVC."
   ]
  },
  {
   "cell_type": "markdown",
   "id": "33bf1524-a69b-451a-86aa-e866fa86d81f",
   "metadata": {},
   "source": [
    "##### Support Vector Regression"
   ]
  },
  {
   "cell_type": "code",
   "execution_count": 168,
   "id": "f413f596-578c-46cf-a5b9-11be8066cd12",
   "metadata": {},
   "outputs": [
    {
     "name": "stdout",
     "output_type": "stream",
     "text": [
      "=== SVR Performance ===\n",
      "Mean Squared Error: 0.1566\n",
      "R² Score: 0.3543\n",
      "Accuracy (thresholded): 0.810\n"
     ]
    }
   ],
   "source": [
    "# Build pipeline (with scaling)\n",
    "svr_model = Pipeline([\n",
    "    ('scaler', StandardScaler()),\n",
    "    ('model', SVR(kernel='rbf'))  # You can try 'linear' or tune params later\n",
    "])\n",
    "\n",
    "# Fit to training data\n",
    "svr_model.fit(X_train, y_train)\n",
    "\n",
    "# Predict continuous survival scores\n",
    "y_pred_svr_cont = svr_model.predict(X_test)\n",
    "\n",
    "# Apply 0.5 threshold to classify as 0 or 1\n",
    "y_pred_svr_bin = (y_pred_svr_cont >= 0.5).astype(int)\n",
    "\n",
    "# Evaluate\n",
    "mse_svr = mean_squared_error(y_test, y_pred_svr_cont)\n",
    "r2_svr = r2_score(y_test, y_pred_svr_cont)\n",
    "acc_svr = accuracy_score(y_test, y_pred_svr_bin)\n",
    "\n",
    "print(\"=== SVR Performance ===\")\n",
    "print(f\"Mean Squared Error: {mse_svr:.4f}\")\n",
    "print(f\"R² Score: {r2_svr:.4f}\")\n",
    "print(f\"Accuracy (thresholded): {acc_svr:.3f}\")"
   ]
  },
  {
   "cell_type": "markdown",
   "id": "72a17a63-7e47-4b9a-89e9-93e5cb9b10c3",
   "metadata": {},
   "source": [
    "I used Support Vector Regression (SVR) on the Titanic dataset to predict survival as a score between 0 and 1, then applied a 0.5 threshold to classify passengers as survived or not. The model ended up with about 81% accuracy, which is actually the highest so far out of all the models I’ve tested. \n",
    "\n",
    "The R² score was around 0.35, so it didn’t explain a ton of the variation, but it still managed to make decent predictions. Even though SVR isn’t made for classification, it held up surprisingly well when used this way."
   ]
  },
  {
   "cell_type": "markdown",
   "id": "f5f6bcff-24de-4fb7-82f3-46c07c188bfb",
   "metadata": {},
   "source": [
    "# Start Here for Micro-Project 4: Machine Learning Project 2 of 2"
   ]
  },
  {
   "cell_type": "markdown",
   "id": "d6ae79e7-218c-441c-8e7c-ff6a78c624d0",
   "metadata": {
    "jp-MarkdownHeadingCollapsed": true
   },
   "source": [
    "### Deep Learning Model #1: Dense Neural Network."
   ]
  },
  {
   "cell_type": "code",
   "execution_count": 301,
   "id": "cb075b47-e3fe-441f-81f8-3419b16e88cc",
   "metadata": {},
   "outputs": [],
   "source": [
    "RNG = 42\n",
    "np.random.seed(RNG); tf.random.set_seed(RNG)"
   ]
  },
  {
   "cell_type": "markdown",
   "id": "cc55b09e-242c-4f87-9b5c-233c5882cfa0",
   "metadata": {},
   "source": [
    "Setting a random seed makes results reproducible."
   ]
  },
  {
   "cell_type": "code",
   "execution_count": 303,
   "id": "8f9e9d7f-6faf-457c-bd31-5fd87403e999",
   "metadata": {},
   "outputs": [],
   "source": [
    "# Load CSV from your fixed path\n",
    "df = pd.read_csv(r\"C:\\Users\\divin\\Documents\\ANA_500\\week_2\\titanic.csv\")\n",
    "\n",
    "# Drop high-cardinality/non-predictive text columns if present\n",
    "drop_cols = [\"PassengerId\",\"Name\",\"Ticket\",\"Cabin\"]\n",
    "existing_drop = [c for c in drop_cols if c in df.columns]\n",
    "df_model = df.drop(columns=existing_drop, errors=\"ignore\").copy()\n",
    "\n",
    "# Pick target (handles 'Survived' or 'survived')\n",
    "target_col = \"Survived\" if \"Survived\" in df_model.columns else \"survived\"\n",
    "if target_col not in df_model.columns:\n",
    "    raise ValueError(f\"Target column not found. Columns: {df_model.columns.tolist()}\")\n"
   ]
  },
  {
   "cell_type": "markdown",
   "id": "6519584a-d4e3-4dd2-995f-e32b8afe8310",
   "metadata": {},
   "source": [
    "I loaded the dataset and removed columns that add noise rather than signal (IDs, names, tickets, cabins). I also standardized the target name to keep the pipeline robust."
   ]
  },
  {
   "cell_type": "code",
   "execution_count": 305,
   "id": "fdebb33d-73fc-4b2b-85fc-50b118436673",
   "metadata": {},
   "outputs": [
    {
     "name": "stdout",
     "output_type": "stream",
     "text": [
      "Before cleaning, missing targets: 418\n",
      "Numeric cols: ['Pclass', 'Age', 'SibSp', 'Parch', 'Fare']\n",
      "Categorical sample: ['Sex', 'Embarked']\n"
     ]
    }
   ],
   "source": [
    "# --- Define features and target, with safe cleaning ---\n",
    "# Make sure the target has no NaN before converting to int\n",
    "y = pd.to_numeric(df_model[target_col], errors=\"coerce\")   # coerce bad values → NaN\n",
    "print(\"Before cleaning, missing targets:\", y.isna().sum())\n",
    "\n",
    "# Drop rows with missing target values\n",
    "mask = y.notna()\n",
    "y = y[mask].astype(int).values\n",
    "X = df_model.loc[mask].drop(columns=[target_col])\n",
    "\n",
    "# Split out numeric and categorical columns\n",
    "num_cols = [c for c in X.columns if pd.api.types.is_numeric_dtype(X[c])]\n",
    "cat_cols = [c for c in X.columns if c not in num_cols]\n",
    "\n",
    "print(\"Numeric cols:\", num_cols)\n",
    "print(\"Categorical sample:\", cat_cols[:5])\n"
   ]
  },
  {
   "cell_type": "markdown",
   "id": "c308f971-1b5a-4844-b073-0ff9ac8d2ace",
   "metadata": {},
   "source": [
    "I separated features (X) from the target (y) and automatically detect numeric vs. categorical columns. This lets me apply the right preprocessing to each type."
   ]
  },
  {
   "cell_type": "code",
   "execution_count": 307,
   "id": "b838f451-eae8-4ef8-a772-decc8d42fccd",
   "metadata": {},
   "outputs": [],
   "source": [
    "numeric_pipe = Pipeline(steps=[\n",
    "    (\"imputer\", SimpleImputer(strategy=\"median\")),   # fills missing numeric values\n",
    "    (\"scaler\", StandardScaler())                     # centers/scales to mean=0, std=1\n",
    "])\n",
    "categorical_pipe = Pipeline(steps=[\n",
    "    (\"imputer\", SimpleImputer(strategy=\"most_frequent\")),  # fills missing categories\n",
    "    (\"ohe\", OneHotEncoder(handle_unknown=\"ignore\", sparse_output=False))\n",
    "])\n",
    "\n",
    "preprocess = ColumnTransformer(\n",
    "    transformers=[\n",
    "        (\"num\", numeric_pipe, num_cols),\n",
    "        (\"cat\", categorical_pipe, cat_cols)\n",
    "    ],\n",
    "    remainder=\"drop\"\n",
    ")\n"
   ]
  },
  {
   "cell_type": "markdown",
   "id": "a59a8f4c-a115-46c6-8061-819c2dbdad85",
   "metadata": {},
   "source": [
    "Numeric features get median imputation and scaling; categorical features get mode imputation and one-hot encoding. This standardizes inputs and avoids data leakage."
   ]
  },
  {
   "cell_type": "code",
   "execution_count": 309,
   "id": "2f03aa09-db63-4b2c-8512-55a6a7e1413e",
   "metadata": {},
   "outputs": [
    {
     "data": {
      "text/plain": [
       "10"
      ]
     },
     "execution_count": 309,
     "metadata": {},
     "output_type": "execute_result"
    }
   ],
   "source": [
    "X_train_raw, X_test_raw, y_train, y_test = train_test_split(\n",
    "    X, y, test_size=0.2, random_state=RNG, stratify=y\n",
    ")\n",
    "X_train = preprocess.fit_transform(X_train_raw)\n",
    "X_test  = preprocess.transform(X_test_raw)\n",
    "\n",
    "input_dim = X_train.shape[1]\n",
    "input_dim\n"
   ]
  },
  {
   "cell_type": "markdown",
   "id": "43e2e3c0-76af-4466-81f8-2fd6c2ae4861",
   "metadata": {},
   "source": [
    "I split the data (80/20) with stratification to preserve the class balance in both sets. The transformer is fit only on training data (then applied to test) to prevent look-ahead bias. input_dim is the number of model inputs after encoding."
   ]
  },
  {
   "cell_type": "code",
   "execution_count": 311,
   "id": "17cff11a-e08c-4813-a0b5-a0a4710f82db",
   "metadata": {},
   "outputs": [
    {
     "data": {
      "text/plain": [
       "{0: 0.8109339407744874, 1: 1.304029304029304}"
      ]
     },
     "execution_count": 311,
     "metadata": {},
     "output_type": "execute_result"
    }
   ],
   "source": [
    "from collections import Counter\n",
    "ctr = Counter(y_train)\n",
    "w0 = (1 / ctr[0]) * (len(y_train) / 2.0)\n",
    "w1 = (1 / ctr[1]) * (len(y_train) / 2.0)\n",
    "class_weight = {0: w0, 1: w1}\n",
    "class_weight\n"
   ]
  },
  {
   "cell_type": "markdown",
   "id": "883379d0-5369-4454-a455-c91c829448e0",
   "metadata": {},
   "source": [
    "Titanic is imbalanced (fewer survivors). Class weights counter this by penalizing mistakes on the minority class more, improving recall without changing the data itself."
   ]
  },
  {
   "cell_type": "code",
   "execution_count": 313,
   "id": "9712aa07-058f-4eb0-a99b-928664d400ac",
   "metadata": {},
   "outputs": [
    {
     "data": {
      "text/html": [
       "<pre style=\"white-space:pre;overflow-x:auto;line-height:normal;font-family:Menlo,'DejaVu Sans Mono',consolas,'Courier New',monospace\"><span style=\"font-weight: bold\">Model: \"sequential_3\"</span>\n",
       "</pre>\n"
      ],
      "text/plain": [
       "\u001b[1mModel: \"sequential_3\"\u001b[0m\n"
      ]
     },
     "metadata": {},
     "output_type": "display_data"
    },
    {
     "data": {
      "text/html": [
       "<pre style=\"white-space:pre;overflow-x:auto;line-height:normal;font-family:Menlo,'DejaVu Sans Mono',consolas,'Courier New',monospace\">┏━━━━━━━━━━━━━━━━━━━━━━━━━━━━━━━━━┳━━━━━━━━━━━━━━━━━━━━━━━━┳━━━━━━━━━━━━━━━┓\n",
       "┃<span style=\"font-weight: bold\"> Layer (type)                    </span>┃<span style=\"font-weight: bold\"> Output Shape           </span>┃<span style=\"font-weight: bold\">       Param # </span>┃\n",
       "┡━━━━━━━━━━━━━━━━━━━━━━━━━━━━━━━━━╇━━━━━━━━━━━━━━━━━━━━━━━━╇━━━━━━━━━━━━━━━┩\n",
       "│ dense_12 (<span style=\"color: #0087ff; text-decoration-color: #0087ff\">Dense</span>)                │ (<span style=\"color: #00d7ff; text-decoration-color: #00d7ff\">None</span>, <span style=\"color: #00af00; text-decoration-color: #00af00\">256</span>)            │         <span style=\"color: #00af00; text-decoration-color: #00af00\">2,816</span> │\n",
       "├─────────────────────────────────┼────────────────────────┼───────────────┤\n",
       "│ dropout_6 (<span style=\"color: #0087ff; text-decoration-color: #0087ff\">Dropout</span>)             │ (<span style=\"color: #00d7ff; text-decoration-color: #00d7ff\">None</span>, <span style=\"color: #00af00; text-decoration-color: #00af00\">256</span>)            │             <span style=\"color: #00af00; text-decoration-color: #00af00\">0</span> │\n",
       "├─────────────────────────────────┼────────────────────────┼───────────────┤\n",
       "│ dense_13 (<span style=\"color: #0087ff; text-decoration-color: #0087ff\">Dense</span>)                │ (<span style=\"color: #00d7ff; text-decoration-color: #00d7ff\">None</span>, <span style=\"color: #00af00; text-decoration-color: #00af00\">128</span>)            │        <span style=\"color: #00af00; text-decoration-color: #00af00\">32,896</span> │\n",
       "├─────────────────────────────────┼────────────────────────┼───────────────┤\n",
       "│ dropout_7 (<span style=\"color: #0087ff; text-decoration-color: #0087ff\">Dropout</span>)             │ (<span style=\"color: #00d7ff; text-decoration-color: #00d7ff\">None</span>, <span style=\"color: #00af00; text-decoration-color: #00af00\">128</span>)            │             <span style=\"color: #00af00; text-decoration-color: #00af00\">0</span> │\n",
       "├─────────────────────────────────┼────────────────────────┼───────────────┤\n",
       "│ dense_14 (<span style=\"color: #0087ff; text-decoration-color: #0087ff\">Dense</span>)                │ (<span style=\"color: #00d7ff; text-decoration-color: #00d7ff\">None</span>, <span style=\"color: #00af00; text-decoration-color: #00af00\">64</span>)             │         <span style=\"color: #00af00; text-decoration-color: #00af00\">8,256</span> │\n",
       "├─────────────────────────────────┼────────────────────────┼───────────────┤\n",
       "│ dense_15 (<span style=\"color: #0087ff; text-decoration-color: #0087ff\">Dense</span>)                │ (<span style=\"color: #00d7ff; text-decoration-color: #00d7ff\">None</span>, <span style=\"color: #00af00; text-decoration-color: #00af00\">1</span>)              │            <span style=\"color: #00af00; text-decoration-color: #00af00\">65</span> │\n",
       "└─────────────────────────────────┴────────────────────────┴───────────────┘\n",
       "</pre>\n"
      ],
      "text/plain": [
       "┏━━━━━━━━━━━━━━━━━━━━━━━━━━━━━━━━━┳━━━━━━━━━━━━━━━━━━━━━━━━┳━━━━━━━━━━━━━━━┓\n",
       "┃\u001b[1m \u001b[0m\u001b[1mLayer (type)                   \u001b[0m\u001b[1m \u001b[0m┃\u001b[1m \u001b[0m\u001b[1mOutput Shape          \u001b[0m\u001b[1m \u001b[0m┃\u001b[1m \u001b[0m\u001b[1m      Param #\u001b[0m\u001b[1m \u001b[0m┃\n",
       "┡━━━━━━━━━━━━━━━━━━━━━━━━━━━━━━━━━╇━━━━━━━━━━━━━━━━━━━━━━━━╇━━━━━━━━━━━━━━━┩\n",
       "│ dense_12 (\u001b[38;5;33mDense\u001b[0m)                │ (\u001b[38;5;45mNone\u001b[0m, \u001b[38;5;34m256\u001b[0m)            │         \u001b[38;5;34m2,816\u001b[0m │\n",
       "├─────────────────────────────────┼────────────────────────┼───────────────┤\n",
       "│ dropout_6 (\u001b[38;5;33mDropout\u001b[0m)             │ (\u001b[38;5;45mNone\u001b[0m, \u001b[38;5;34m256\u001b[0m)            │             \u001b[38;5;34m0\u001b[0m │\n",
       "├─────────────────────────────────┼────────────────────────┼───────────────┤\n",
       "│ dense_13 (\u001b[38;5;33mDense\u001b[0m)                │ (\u001b[38;5;45mNone\u001b[0m, \u001b[38;5;34m128\u001b[0m)            │        \u001b[38;5;34m32,896\u001b[0m │\n",
       "├─────────────────────────────────┼────────────────────────┼───────────────┤\n",
       "│ dropout_7 (\u001b[38;5;33mDropout\u001b[0m)             │ (\u001b[38;5;45mNone\u001b[0m, \u001b[38;5;34m128\u001b[0m)            │             \u001b[38;5;34m0\u001b[0m │\n",
       "├─────────────────────────────────┼────────────────────────┼───────────────┤\n",
       "│ dense_14 (\u001b[38;5;33mDense\u001b[0m)                │ (\u001b[38;5;45mNone\u001b[0m, \u001b[38;5;34m64\u001b[0m)             │         \u001b[38;5;34m8,256\u001b[0m │\n",
       "├─────────────────────────────────┼────────────────────────┼───────────────┤\n",
       "│ dense_15 (\u001b[38;5;33mDense\u001b[0m)                │ (\u001b[38;5;45mNone\u001b[0m, \u001b[38;5;34m1\u001b[0m)              │            \u001b[38;5;34m65\u001b[0m │\n",
       "└─────────────────────────────────┴────────────────────────┴───────────────┘\n"
      ]
     },
     "metadata": {},
     "output_type": "display_data"
    },
    {
     "data": {
      "text/html": [
       "<pre style=\"white-space:pre;overflow-x:auto;line-height:normal;font-family:Menlo,'DejaVu Sans Mono',consolas,'Courier New',monospace\"><span style=\"font-weight: bold\"> Total params: </span><span style=\"color: #00af00; text-decoration-color: #00af00\">44,033</span> (172.00 KB)\n",
       "</pre>\n"
      ],
      "text/plain": [
       "\u001b[1m Total params: \u001b[0m\u001b[38;5;34m44,033\u001b[0m (172.00 KB)\n"
      ]
     },
     "metadata": {},
     "output_type": "display_data"
    },
    {
     "data": {
      "text/html": [
       "<pre style=\"white-space:pre;overflow-x:auto;line-height:normal;font-family:Menlo,'DejaVu Sans Mono',consolas,'Courier New',monospace\"><span style=\"font-weight: bold\"> Trainable params: </span><span style=\"color: #00af00; text-decoration-color: #00af00\">44,033</span> (172.00 KB)\n",
       "</pre>\n"
      ],
      "text/plain": [
       "\u001b[1m Trainable params: \u001b[0m\u001b[38;5;34m44,033\u001b[0m (172.00 KB)\n"
      ]
     },
     "metadata": {},
     "output_type": "display_data"
    },
    {
     "data": {
      "text/html": [
       "<pre style=\"white-space:pre;overflow-x:auto;line-height:normal;font-family:Menlo,'DejaVu Sans Mono',consolas,'Courier New',monospace\"><span style=\"font-weight: bold\"> Non-trainable params: </span><span style=\"color: #00af00; text-decoration-color: #00af00\">0</span> (0.00 B)\n",
       "</pre>\n"
      ],
      "text/plain": [
       "\u001b[1m Non-trainable params: \u001b[0m\u001b[38;5;34m0\u001b[0m (0.00 B)\n"
      ]
     },
     "metadata": {},
     "output_type": "display_data"
    }
   ],
   "source": [
    "def make_dense(input_dim: int):\n",
    "    model = keras.Sequential([\n",
    "        layers.Input(shape=(input_dim,)),\n",
    "        layers.Dense(256, activation=\"relu\"),\n",
    "        layers.Dropout(0.2),\n",
    "        layers.Dense(128, activation=\"relu\"),\n",
    "        layers.Dropout(0.2),\n",
    "        layers.Dense(64, activation=\"relu\"),\n",
    "        layers.Dense(1, activation=\"sigmoid\")\n",
    "    ])\n",
    "    model.compile(\n",
    "        optimizer=keras.optimizers.Adam(1e-3),\n",
    "        loss=\"binary_crossentropy\",\n",
    "        metrics=[\"accuracy\"]\n",
    "    )\n",
    "    return model\n",
    "\n",
    "model = make_dense(input_dim)\n",
    "model.summary()\n"
   ]
  },
  {
   "cell_type": "markdown",
   "id": "3463155b-87d8-428b-98a5-9d49c0236337",
   "metadata": {},
   "source": [
    "This is a feed-forward neural network: fully connected layers learn nonlinear patterns; dropout reduces overfitting; the sigmoid output predicts survival probability; loss is binary cross-entropy, metric is accuracy."
   ]
  },
  {
   "cell_type": "code",
   "execution_count": 329,
   "id": "42efae3e-d940-4fde-9089-dc17c62381ca",
   "metadata": {},
   "outputs": [
    {
     "ename": "AttributeError",
     "evalue": "'list' object has no attribute 'EarlyStopping'",
     "output_type": "error",
     "traceback": [
      "\u001b[1;31m---------------------------------------------------------------------------\u001b[0m",
      "\u001b[1;31mAttributeError\u001b[0m                            Traceback (most recent call last)",
      "Cell \u001b[1;32mIn[329], line 1\u001b[0m\n\u001b[1;32m----> 1\u001b[0m early \u001b[38;5;241m=\u001b[39m callbacks\u001b[38;5;241m.\u001b[39mEarlyStopping(\n\u001b[0;32m      2\u001b[0m     monitor\u001b[38;5;241m=\u001b[39m\u001b[38;5;124m\"\u001b[39m\u001b[38;5;124mval_accuracy\u001b[39m\u001b[38;5;124m\"\u001b[39m, patience\u001b[38;5;241m=\u001b[39m\u001b[38;5;241m12\u001b[39m, restore_best_weights\u001b[38;5;241m=\u001b[39m\u001b[38;5;28;01mTrue\u001b[39;00m\n\u001b[0;32m      3\u001b[0m )\n\u001b[0;32m      4\u001b[0m plateau \u001b[38;5;241m=\u001b[39m callbacks\u001b[38;5;241m.\u001b[39mReduceLROnPlateau(\n\u001b[0;32m      5\u001b[0m     monitor\u001b[38;5;241m=\u001b[39m\u001b[38;5;124m\"\u001b[39m\u001b[38;5;124mval_loss\u001b[39m\u001b[38;5;124m\"\u001b[39m, factor\u001b[38;5;241m=\u001b[39m\u001b[38;5;241m0.5\u001b[39m, patience\u001b[38;5;241m=\u001b[39m\u001b[38;5;241m6\u001b[39m, min_lr\u001b[38;5;241m=\u001b[39m\u001b[38;5;241m1e-6\u001b[39m, verbose\u001b[38;5;241m=\u001b[39m\u001b[38;5;241m0\u001b[39m\n\u001b[0;32m      6\u001b[0m )\n",
      "\u001b[1;31mAttributeError\u001b[0m: 'list' object has no attribute 'EarlyStopping'"
     ]
    }
   ],
   "source": [
    "early = callbacks.EarlyStopping(\n",
    "    monitor=\"val_accuracy\", patience=12, restore_best_weights=True\n",
    ")\n",
    "plateau = callbacks.ReduceLROnPlateau(\n",
    "    monitor=\"val_loss\", factor=0.5, patience=6, min_lr=1e-6, verbose=0\n",
    ")\n"
   ]
  },
  {
   "cell_type": "markdown",
   "id": "a30d70e6-4a1e-471b-ac29-ff686233feac",
   "metadata": {},
   "source": [
    "EarlyStopping halts training when validation performance stops improving, preventing overfitting and wasted epochs. ReduceLROnPlateau lowers the learning rate when progress stalls to fine-tune weights."
   ]
  },
  {
   "cell_type": "code",
   "execution_count": 331,
   "id": "3f7bc024-51b9-4244-9042-956d9ada2a41",
   "metadata": {},
   "outputs": [],
   "source": [
    "history = model.fit(\n",
    "    X_train, y_train,\n",
    "    validation_split=0.2,          # hold out part of training for validation\n",
    "    epochs=300, batch_size=64,\n",
    "    callbacks=[early, plateau],\n",
    "    class_weight=class_weight,     # remove if you don’t want weighting\n",
    "    verbose=0\n",
    ")\n"
   ]
  },
  {
   "cell_type": "markdown",
   "id": "cb2e94da-4407-4718-880e-b3b09ef0b3ce",
   "metadata": {},
   "source": [
    "I trained on the preprocessed features. A small validation slice monitors generalization. Class weighting emphasizes the minority class. Callbacks manage early stop and LR tuning."
   ]
  },
  {
   "cell_type": "code",
   "execution_count": 319,
   "id": "f1a8ac99-c310-495c-b305-6afea8a63846",
   "metadata": {},
   "outputs": [
    {
     "name": "stdout",
     "output_type": "stream",
     "text": [
      "WARNING:tensorflow:5 out of the last 13 calls to <function TensorFlowTrainer.make_predict_function.<locals>.one_step_on_data_distributed at 0x000001524F384A40> triggered tf.function retracing. Tracing is expensive and the excessive number of tracings could be due to (1) creating @tf.function repeatedly in a loop, (2) passing tensors with different shapes, (3) passing Python objects instead of tensors. For (1), please define your @tf.function outside of the loop. For (2), @tf.function has reduce_retracing=True option that can avoid unnecessary retracing. For (3), please refer to https://www.tensorflow.org/guide/function#controlling_retracing and https://www.tensorflow.org/api_docs/python/tf/function for  more details.\n"
     ]
    },
    {
     "data": {
      "text/plain": [
       "{'Dense_ACC': 0.7207,\n",
       " 'Dense_PREC': 0.6067,\n",
       " 'Dense_REC': 0.7826,\n",
       " 'Dense_F1': 0.6835,\n",
       " 'Dense_AUC': 0.8067,\n",
       " 'Best_val_ACC': 0.8042}"
      ]
     },
     "execution_count": 319,
     "metadata": {},
     "output_type": "execute_result"
    }
   ],
   "source": [
    "proba = model.predict(X_test, verbose=0).ravel()\n",
    "pred  = (proba >= 0.5).astype(int)\n",
    "\n",
    "acc = accuracy_score(y_test, pred)\n",
    "prec, rec, f1, _ = precision_recall_fscore_support(y_test, pred, average=\"binary\", zero_division=0)\n",
    "auc = roc_auc_score(y_test, proba)\n",
    "\n",
    "results = {\n",
    "    \"Dense_ACC\": round(acc, 4),\n",
    "    \"Dense_PREC\": round(prec, 4),\n",
    "    \"Dense_REC\": round(rec, 4),\n",
    "    \"Dense_F1\": round(f1, 4),\n",
    "    \"Dense_AUC\": round(auc, 4),\n",
    "    \"Best_val_ACC\": round(max(history.history[\"val_accuracy\"]), 4)\n",
    "}\n",
    "results\n"
   ]
  },
  {
   "cell_type": "markdown",
   "id": "fe0da1f0-3085-4583-93c2-e3c47eff4f74",
   "metadata": {},
   "source": [
    "To report accuracy, precision, recall, F1, and AUC. These quantify different trade-offs: precision (false-positive control), recall (missed positives), F1 (balance), AUC (ranking quality). Best_val_ACC shows peak validation performance during training."
   ]
  },
  {
   "cell_type": "code",
   "execution_count": 321,
   "id": "a4b03798-96ab-4306-b6fe-f67efe573215",
   "metadata": {},
   "outputs": [
    {
     "data": {
      "image/png": "[encoded data removed]",
      "text/plain": [
       "<Figure size 640x480 with 1 Axes>"
      ]
     },
     "metadata": {},
     "output_type": "display_data"
    }
   ],
   "source": [
    "def plot_history(h, title=\"Dense NN — Training/Validation Curves\"):\n",
    "    plt.figure()\n",
    "    for k,v in h.history.items():\n",
    "        plt.plot(v, label=k)\n",
    "    plt.legend(); plt.title(title); plt.xlabel(\"Epoch\"); plt.ylabel(\"Value\"); plt.show()\n",
    "\n",
    "plot_history(history)\n"
   ]
  },
  {
   "cell_type": "markdown",
   "id": "de77a113-097b-41dd-9226-8b09aed230e1",
   "metadata": {},
   "source": [
    "Learning curves help diagnose training dynamics. Converging loss and close train vs. val accuracy imply controlled overfitting. Divergence would suggest regularization or data issues."
   ]
  },
  {
   "cell_type": "code",
   "execution_count": 323,
   "id": "38ea723e-b568-4a7c-8dcc-16d8a95028a0",
   "metadata": {},
   "outputs": [
    {
     "data": {
      "image/png": "[encoded data removed]",
      "text/plain": [
       "<Figure size 640x480 with 2 Axes>"
      ]
     },
     "metadata": {},
     "output_type": "display_data"
    }
   ],
   "source": [
    "cm = confusion_matrix(y_test, pred)\n",
    "ConfusionMatrixDisplay(cm).plot(values_format=\"d\")\n",
    "plt.title(\"Dense NN — Confusion Matrix\")\n",
    "plt.show()\n"
   ]
  },
  {
   "cell_type": "markdown",
   "id": "377a58b7-034f-4538-8fb5-d4cd59c1253f",
   "metadata": {},
   "source": [
    "The confusion matrix shows counts of TP/FP/TN/FN. Use it to explain where the model errs (e.g., misses survivors vs. false alarms) and motivate your chosen operating point or metric focus."
   ]
  },
  {
   "cell_type": "markdown",
   "id": "8adcf3e3-47ce-47c0-a3b7-b2ac55213c6f",
   "metadata": {
    "jp-MarkdownHeadingCollapsed": true
   },
   "source": [
    "### Deep Learning Model #2: Long Short-Term Memory "
   ]
  },
  {
   "cell_type": "code",
   "execution_count": 366,
   "id": "435ade3d-cc62-486d-89bd-cb0a054bc527",
   "metadata": {},
   "outputs": [
    {
     "name": "stdout",
     "output_type": "stream",
     "text": [
      "Train: (499, 5) Val: (107, 5) Test: (108, 5)\n",
      "LSTM input shapes: (499, 5, 1) (107, 5, 1) (108, 5, 1)\n"
     ]
    }
   ],
   "source": [
    "# 1. Define features and target\n",
    "feature_cols = [\"Age\", \"Fare\", \"Pclass\", \"SibSp\", \"Parch\"]\n",
    "target_col = \"Survived\"\n",
    "\n",
    "# Drop missing values for selected features\n",
    "df = df[feature_cols + [target_col]].dropna()\n",
    "\n",
    "# 2. Scale features\n",
    "from sklearn.preprocessing import MinMaxScaler\n",
    "scaler = MinMaxScaler()\n",
    "scaled_features = scaler.fit_transform(df[feature_cols])\n",
    "\n",
    "X = scaled_features\n",
    "y = df[target_col].values\n",
    "\n",
    "# 3. Split AFTER scaling (train/val/test)\n",
    "from sklearn.model_selection import train_test_split\n",
    "X_train, X_temp, y_train, y_temp = train_test_split(\n",
    "    X, y, test_size=0.3, random_state=42, stratify=y\n",
    ")\n",
    "X_val, X_test, y_val, y_test = train_test_split(\n",
    "    X_temp, y_temp, test_size=0.5, random_state=42, stratify=y_temp\n",
    ")\n",
    "\n",
    "print(\"Train:\", X_train.shape, \"Val:\", X_val.shape, \"Test:\", X_test.shape)\n",
    "# Expect (n, 5) for all splits\n",
    "\n",
    "# 4. Reshape for LSTM (samples, timesteps=features, input_dim=1)\n",
    "X_train_lstm = X_train.reshape((X_train.shape[0], X_train.shape[1], 1))\n",
    "X_val_lstm   = X_val.reshape((X_val.shape[0],   X_val.shape[1],   1))\n",
    "X_test_lstm  = X_test.reshape((X_test.shape[0], X_test.shape[1], 1))\n",
    "\n",
    "print(\"LSTM input shapes:\", X_train_lstm.shape, X_val_lstm.shape, X_test_lstm.shape)\n",
    "# Expect (n, 5, 1)\n"
   ]
  },
  {
   "cell_type": "markdown",
   "id": "d1afa3fc-0fc7-4799-975d-d8c8c4306143",
   "metadata": {},
   "source": [
    "This code prepares the Titanic dataset for an LSTM by selecting five numeric features with “Survived” as the target, scaling them to a 0–1 range, and splitting the data into training, validation, and test sets while preserving class balance. It then reshapes the feature matrices so each passenger’s five attributes are treated as a short sequence of length five with one feature per step, giving the proper 3D input shape expected by an LSTM."
   ]
  },
  {
   "cell_type": "code",
   "execution_count": 368,
   "id": "c9c128f3-d5e2-465a-9e67-230905f40efb",
   "metadata": {},
   "outputs": [
    {
     "name": "stderr",
     "output_type": "stream",
     "text": [
      "C:\\Users\\divin\\anaconda3\\Lib\\site-packages\\keras\\src\\layers\\rnn\\rnn.py:199: UserWarning:\n",
      "\n",
      "Do not pass an `input_shape`/`input_dim` argument to a layer. When using Sequential models, prefer using an `Input(shape)` object as the first layer in the model instead.\n",
      "\n"
     ]
    },
    {
     "data": {
      "text/html": [
       "<pre style=\"white-space:pre;overflow-x:auto;line-height:normal;font-family:Menlo,'DejaVu Sans Mono',consolas,'Courier New',monospace\"><span style=\"font-weight: bold\">Model: \"sequential\"</span>\n",
       "</pre>\n"
      ],
      "text/plain": [
       "\u001b[1mModel: \"sequential\"\u001b[0m\n"
      ]
     },
     "metadata": {},
     "output_type": "display_data"
    },
    {
     "data": {
      "text/html": [
       "<pre style=\"white-space:pre;overflow-x:auto;line-height:normal;font-family:Menlo,'DejaVu Sans Mono',consolas,'Courier New',monospace\">┏━━━━━━━━━━━━━━━━━━━━━━━━━━━━━━━━━┳━━━━━━━━━━━━━━━━━━━━━━━━┳━━━━━━━━━━━━━━━┓\n",
       "┃<span style=\"font-weight: bold\"> Layer (type)                    </span>┃<span style=\"font-weight: bold\"> Output Shape           </span>┃<span style=\"font-weight: bold\">       Param # </span>┃\n",
       "┡━━━━━━━━━━━━━━━━━━━━━━━━━━━━━━━━━╇━━━━━━━━━━━━━━━━━━━━━━━━╇━━━━━━━━━━━━━━━┩\n",
       "│ lstm (<span style=\"color: #0087ff; text-decoration-color: #0087ff\">LSTM</span>)                     │ (<span style=\"color: #00d7ff; text-decoration-color: #00d7ff\">None</span>, <span style=\"color: #00af00; text-decoration-color: #00af00\">32</span>)             │         <span style=\"color: #00af00; text-decoration-color: #00af00\">4,352</span> │\n",
       "├─────────────────────────────────┼────────────────────────┼───────────────┤\n",
       "│ dropout (<span style=\"color: #0087ff; text-decoration-color: #0087ff\">Dropout</span>)               │ (<span style=\"color: #00d7ff; text-decoration-color: #00d7ff\">None</span>, <span style=\"color: #00af00; text-decoration-color: #00af00\">32</span>)             │             <span style=\"color: #00af00; text-decoration-color: #00af00\">0</span> │\n",
       "├─────────────────────────────────┼────────────────────────┼───────────────┤\n",
       "│ dense (<span style=\"color: #0087ff; text-decoration-color: #0087ff\">Dense</span>)                   │ (<span style=\"color: #00d7ff; text-decoration-color: #00d7ff\">None</span>, <span style=\"color: #00af00; text-decoration-color: #00af00\">16</span>)             │           <span style=\"color: #00af00; text-decoration-color: #00af00\">528</span> │\n",
       "├─────────────────────────────────┼────────────────────────┼───────────────┤\n",
       "│ dense_1 (<span style=\"color: #0087ff; text-decoration-color: #0087ff\">Dense</span>)                 │ (<span style=\"color: #00d7ff; text-decoration-color: #00d7ff\">None</span>, <span style=\"color: #00af00; text-decoration-color: #00af00\">1</span>)              │            <span style=\"color: #00af00; text-decoration-color: #00af00\">17</span> │\n",
       "└─────────────────────────────────┴────────────────────────┴───────────────┘\n",
       "</pre>\n"
      ],
      "text/plain": [
       "┏━━━━━━━━━━━━━━━━━━━━━━━━━━━━━━━━━┳━━━━━━━━━━━━━━━━━━━━━━━━┳━━━━━━━━━━━━━━━┓\n",
       "┃\u001b[1m \u001b[0m\u001b[1mLayer (type)                   \u001b[0m\u001b[1m \u001b[0m┃\u001b[1m \u001b[0m\u001b[1mOutput Shape          \u001b[0m\u001b[1m \u001b[0m┃\u001b[1m \u001b[0m\u001b[1m      Param #\u001b[0m\u001b[1m \u001b[0m┃\n",
       "┡━━━━━━━━━━━━━━━━━━━━━━━━━━━━━━━━━╇━━━━━━━━━━━━━━━━━━━━━━━━╇━━━━━━━━━━━━━━━┩\n",
       "│ lstm (\u001b[38;5;33mLSTM\u001b[0m)                     │ (\u001b[38;5;45mNone\u001b[0m, \u001b[38;5;34m32\u001b[0m)             │         \u001b[38;5;34m4,352\u001b[0m │\n",
       "├─────────────────────────────────┼────────────────────────┼───────────────┤\n",
       "│ dropout (\u001b[38;5;33mDropout\u001b[0m)               │ (\u001b[38;5;45mNone\u001b[0m, \u001b[38;5;34m32\u001b[0m)             │             \u001b[38;5;34m0\u001b[0m │\n",
       "├─────────────────────────────────┼────────────────────────┼───────────────┤\n",
       "│ dense (\u001b[38;5;33mDense\u001b[0m)                   │ (\u001b[38;5;45mNone\u001b[0m, \u001b[38;5;34m16\u001b[0m)             │           \u001b[38;5;34m528\u001b[0m │\n",
       "├─────────────────────────────────┼────────────────────────┼───────────────┤\n",
       "│ dense_1 (\u001b[38;5;33mDense\u001b[0m)                 │ (\u001b[38;5;45mNone\u001b[0m, \u001b[38;5;34m1\u001b[0m)              │            \u001b[38;5;34m17\u001b[0m │\n",
       "└─────────────────────────────────┴────────────────────────┴───────────────┘\n"
      ]
     },
     "metadata": {},
     "output_type": "display_data"
    },
    {
     "data": {
      "text/html": [
       "<pre style=\"white-space:pre;overflow-x:auto;line-height:normal;font-family:Menlo,'DejaVu Sans Mono',consolas,'Courier New',monospace\"><span style=\"font-weight: bold\"> Total params: </span><span style=\"color: #00af00; text-decoration-color: #00af00\">4,897</span> (19.13 KB)\n",
       "</pre>\n"
      ],
      "text/plain": [
       "\u001b[1m Total params: \u001b[0m\u001b[38;5;34m4,897\u001b[0m (19.13 KB)\n"
      ]
     },
     "metadata": {},
     "output_type": "display_data"
    },
    {
     "data": {
      "text/html": [
       "<pre style=\"white-space:pre;overflow-x:auto;line-height:normal;font-family:Menlo,'DejaVu Sans Mono',consolas,'Courier New',monospace\"><span style=\"font-weight: bold\"> Trainable params: </span><span style=\"color: #00af00; text-decoration-color: #00af00\">4,897</span> (19.13 KB)\n",
       "</pre>\n"
      ],
      "text/plain": [
       "\u001b[1m Trainable params: \u001b[0m\u001b[38;5;34m4,897\u001b[0m (19.13 KB)\n"
      ]
     },
     "metadata": {},
     "output_type": "display_data"
    },
    {
     "data": {
      "text/html": [
       "<pre style=\"white-space:pre;overflow-x:auto;line-height:normal;font-family:Menlo,'DejaVu Sans Mono',consolas,'Courier New',monospace\"><span style=\"font-weight: bold\"> Non-trainable params: </span><span style=\"color: #00af00; text-decoration-color: #00af00\">0</span> (0.00 B)\n",
       "</pre>\n"
      ],
      "text/plain": [
       "\u001b[1m Non-trainable params: \u001b[0m\u001b[38;5;34m0\u001b[0m (0.00 B)\n"
      ]
     },
     "metadata": {},
     "output_type": "display_data"
    },
    {
     "name": "stdout",
     "output_type": "stream",
     "text": [
      "Epoch 1/100\n",
      "\u001b[1m16/16\u001b[0m \u001b[32m━━━━━━━━━━━━━━━━━━━━\u001b[0m\u001b[37m\u001b[0m \u001b[1m1s\u001b[0m 20ms/step - accuracy: 0.5912 - auc: 0.5550 - loss: 0.6824 - val_accuracy: 0.5981 - val_auc: 0.6339 - val_loss: 0.6753 - learning_rate: 0.0010\n",
      "Epoch 2/100\n",
      "\u001b[1m16/16\u001b[0m \u001b[32m━━━━━━━━━━━━━━━━━━━━\u001b[0m\u001b[37m\u001b[0m \u001b[1m0s\u001b[0m 5ms/step - accuracy: 0.5932 - auc: 0.5863 - loss: 0.6721 - val_accuracy: 0.5981 - val_auc: 0.6521 - val_loss: 0.6675 - learning_rate: 0.0010\n",
      "Epoch 3/100\n",
      "\u001b[1m16/16\u001b[0m \u001b[32m━━━━━━━━━━━━━━━━━━━━\u001b[0m\u001b[37m\u001b[0m \u001b[1m0s\u001b[0m 4ms/step - accuracy: 0.5932 - auc: 0.6554 - loss: 0.6643 - val_accuracy: 0.5981 - val_auc: 0.6477 - val_loss: 0.6651 - learning_rate: 0.0010\n",
      "Epoch 4/100\n",
      "\u001b[1m16/16\u001b[0m \u001b[32m━━━━━━━━━━━━━━━━━━━━\u001b[0m\u001b[37m\u001b[0m \u001b[1m0s\u001b[0m 4ms/step - accuracy: 0.5932 - auc: 0.6733 - loss: 0.6594 - val_accuracy: 0.5981 - val_auc: 0.6566 - val_loss: 0.6630 - learning_rate: 0.0010\n",
      "Epoch 5/100\n",
      "\u001b[1m16/16\u001b[0m \u001b[32m━━━━━━━━━━━━━━━━━━━━\u001b[0m\u001b[37m\u001b[0m \u001b[1m0s\u001b[0m 5ms/step - accuracy: 0.5932 - auc: 0.6996 - loss: 0.6547 - val_accuracy: 0.5981 - val_auc: 0.6622 - val_loss: 0.6600 - learning_rate: 0.0010\n",
      "Epoch 6/100\n",
      "\u001b[1m16/16\u001b[0m \u001b[32m━━━━━━━━━━━━━━━━━━━━\u001b[0m\u001b[37m\u001b[0m \u001b[1m0s\u001b[0m 4ms/step - accuracy: 0.5932 - auc: 0.6716 - loss: 0.6552 - val_accuracy: 0.5981 - val_auc: 0.6642 - val_loss: 0.6563 - learning_rate: 0.0010\n",
      "Epoch 7/100\n",
      "\u001b[1m16/16\u001b[0m \u001b[32m━━━━━━━━━━━━━━━━━━━━\u001b[0m\u001b[37m\u001b[0m \u001b[1m0s\u001b[0m 4ms/step - accuracy: 0.5932 - auc: 0.7001 - loss: 0.6468 - val_accuracy: 0.5981 - val_auc: 0.6742 - val_loss: 0.6522 - learning_rate: 0.0010\n",
      "Epoch 8/100\n",
      "\u001b[1m16/16\u001b[0m \u001b[32m━━━━━━━━━━━━━━━━━━━━\u001b[0m\u001b[37m\u001b[0m \u001b[1m0s\u001b[0m 4ms/step - accuracy: 0.5912 - auc: 0.6980 - loss: 0.6410 - val_accuracy: 0.5981 - val_auc: 0.6779 - val_loss: 0.6474 - learning_rate: 0.0010\n",
      "Epoch 9/100\n",
      "\u001b[1m16/16\u001b[0m \u001b[32m━━━━━━━━━━━━━━━━━━━━\u001b[0m\u001b[37m\u001b[0m \u001b[1m0s\u001b[0m 5ms/step - accuracy: 0.6293 - auc: 0.7085 - loss: 0.6316 - val_accuracy: 0.6262 - val_auc: 0.6817 - val_loss: 0.6425 - learning_rate: 0.0010\n",
      "Epoch 10/100\n",
      "\u001b[1m16/16\u001b[0m \u001b[32m━━━━━━━━━━━━━━━━━━━━\u001b[0m\u001b[37m\u001b[0m \u001b[1m0s\u001b[0m 5ms/step - accuracy: 0.6553 - auc: 0.7058 - loss: 0.6267 - val_accuracy: 0.6449 - val_auc: 0.6815 - val_loss: 0.6402 - learning_rate: 0.0010\n",
      "Epoch 11/100\n",
      "\u001b[1m16/16\u001b[0m \u001b[32m━━━━━━━━━━━━━━━━━━━━\u001b[0m\u001b[37m\u001b[0m \u001b[1m0s\u001b[0m 5ms/step - accuracy: 0.6533 - auc: 0.7053 - loss: 0.6233 - val_accuracy: 0.6542 - val_auc: 0.6797 - val_loss: 0.6378 - learning_rate: 0.0010\n",
      "Epoch 12/100\n",
      "\u001b[1m16/16\u001b[0m \u001b[32m━━━━━━━━━━━━━━━━━━━━\u001b[0m\u001b[37m\u001b[0m \u001b[1m0s\u001b[0m 5ms/step - accuracy: 0.6633 - auc: 0.7146 - loss: 0.6161 - val_accuracy: 0.6449 - val_auc: 0.6817 - val_loss: 0.6389 - learning_rate: 0.0010\n",
      "Epoch 13/100\n",
      "\u001b[1m16/16\u001b[0m \u001b[32m━━━━━━━━━━━━━━━━━━━━\u001b[0m\u001b[37m\u001b[0m \u001b[1m0s\u001b[0m 5ms/step - accuracy: 0.6633 - auc: 0.7203 - loss: 0.6093 - val_accuracy: 0.6355 - val_auc: 0.6862 - val_loss: 0.6358 - learning_rate: 0.0010\n",
      "Epoch 14/100\n",
      "\u001b[1m16/16\u001b[0m \u001b[32m━━━━━━━━━━━━━━━━━━━━\u001b[0m\u001b[37m\u001b[0m \u001b[1m0s\u001b[0m 4ms/step - accuracy: 0.6713 - auc: 0.7291 - loss: 0.6017 - val_accuracy: 0.6355 - val_auc: 0.6868 - val_loss: 0.6350 - learning_rate: 0.0010\n",
      "Epoch 15/100\n",
      "\u001b[1m16/16\u001b[0m \u001b[32m━━━━━━━━━━━━━━━━━━━━\u001b[0m\u001b[37m\u001b[0m \u001b[1m0s\u001b[0m 5ms/step - accuracy: 0.6613 - auc: 0.7097 - loss: 0.6091 - val_accuracy: 0.6168 - val_auc: 0.6890 - val_loss: 0.6343 - learning_rate: 0.0010\n",
      "Epoch 16/100\n",
      "\u001b[1m16/16\u001b[0m \u001b[32m━━━━━━━━━━━━━━━━━━━━\u001b[0m\u001b[37m\u001b[0m \u001b[1m0s\u001b[0m 5ms/step - accuracy: 0.6673 - auc: 0.7173 - loss: 0.6046 - val_accuracy: 0.6262 - val_auc: 0.6897 - val_loss: 0.6361 - learning_rate: 0.0010\n",
      "Epoch 17/100\n",
      "\u001b[1m16/16\u001b[0m \u001b[32m━━━━━━━━━━━━━━━━━━━━\u001b[0m\u001b[37m\u001b[0m \u001b[1m0s\u001b[0m 7ms/step - accuracy: 0.6713 - auc: 0.7149 - loss: 0.6066 - val_accuracy: 0.6355 - val_auc: 0.6890 - val_loss: 0.6315 - learning_rate: 0.0010\n",
      "Epoch 18/100\n",
      "\u001b[1m16/16\u001b[0m \u001b[32m━━━━━━━━━━━━━━━━━━━━\u001b[0m\u001b[37m\u001b[0m \u001b[1m0s\u001b[0m 4ms/step - accuracy: 0.6573 - auc: 0.7243 - loss: 0.6001 - val_accuracy: 0.6262 - val_auc: 0.6906 - val_loss: 0.6357 - learning_rate: 0.0010\n",
      "Epoch 19/100\n",
      "\u001b[1m16/16\u001b[0m \u001b[32m━━━━━━━━━━━━━━━━━━━━\u001b[0m\u001b[37m\u001b[0m \u001b[1m0s\u001b[0m 5ms/step - accuracy: 0.6633 - auc: 0.7214 - loss: 0.6021 - val_accuracy: 0.6355 - val_auc: 0.6913 - val_loss: 0.6323 - learning_rate: 0.0010\n",
      "Epoch 20/100\n",
      "\u001b[1m16/16\u001b[0m \u001b[32m━━━━━━━━━━━━━━━━━━━━\u001b[0m\u001b[37m\u001b[0m \u001b[1m0s\u001b[0m 5ms/step - accuracy: 0.6673 - auc: 0.7224 - loss: 0.6024 - val_accuracy: 0.6355 - val_auc: 0.6919 - val_loss: 0.6325 - learning_rate: 0.0010\n",
      "Epoch 21/100\n",
      "\u001b[1m16/16\u001b[0m \u001b[32m━━━━━━━━━━━━━━━━━━━━\u001b[0m\u001b[37m\u001b[0m \u001b[1m0s\u001b[0m 5ms/step - accuracy: 0.6693 - auc: 0.7309 - loss: 0.5996 - val_accuracy: 0.6355 - val_auc: 0.6935 - val_loss: 0.6295 - learning_rate: 0.0010\n",
      "Epoch 22/100\n",
      "\u001b[1m16/16\u001b[0m \u001b[32m━━━━━━━━━━━━━━━━━━━━\u001b[0m\u001b[37m\u001b[0m \u001b[1m0s\u001b[0m 5ms/step - accuracy: 0.6733 - auc: 0.7402 - loss: 0.5912 - val_accuracy: 0.6355 - val_auc: 0.6948 - val_loss: 0.6309 - learning_rate: 0.0010\n",
      "Epoch 23/100\n",
      "\u001b[1m16/16\u001b[0m \u001b[32m━━━━━━━━━━━━━━━━━━━━\u001b[0m\u001b[37m\u001b[0m \u001b[1m0s\u001b[0m 5ms/step - accuracy: 0.6774 - auc: 0.7281 - loss: 0.5987 - val_accuracy: 0.6075 - val_auc: 0.6948 - val_loss: 0.6278 - learning_rate: 0.0010\n",
      "Epoch 24/100\n",
      "\u001b[1m16/16\u001b[0m \u001b[32m━━━━━━━━━━━━━━━━━━━━\u001b[0m\u001b[37m\u001b[0m \u001b[1m0s\u001b[0m 5ms/step - accuracy: 0.6673 - auc: 0.7254 - loss: 0.6003 - val_accuracy: 0.6075 - val_auc: 0.6959 - val_loss: 0.6274 - learning_rate: 0.0010\n",
      "Epoch 25/100\n",
      "\u001b[1m16/16\u001b[0m \u001b[32m━━━━━━━━━━━━━━━━━━━━\u001b[0m\u001b[37m\u001b[0m \u001b[1m0s\u001b[0m 4ms/step - accuracy: 0.6693 - auc: 0.7200 - loss: 0.5994 - val_accuracy: 0.6355 - val_auc: 0.6971 - val_loss: 0.6283 - learning_rate: 0.0010\n",
      "Epoch 26/100\n",
      "\u001b[1m16/16\u001b[0m \u001b[32m━━━━━━━━━━━━━━━━━━━━\u001b[0m\u001b[37m\u001b[0m \u001b[1m0s\u001b[0m 5ms/step - accuracy: 0.6673 - auc: 0.7269 - loss: 0.5982 - val_accuracy: 0.6355 - val_auc: 0.7002 - val_loss: 0.6264 - learning_rate: 0.0010\n",
      "Epoch 27/100\n",
      "\u001b[1m16/16\u001b[0m \u001b[32m━━━━━━━━━━━━━━━━━━━━\u001b[0m\u001b[37m\u001b[0m \u001b[1m0s\u001b[0m 5ms/step - accuracy: 0.6814 - auc: 0.7277 - loss: 0.5944 - val_accuracy: 0.6262 - val_auc: 0.7006 - val_loss: 0.6244 - learning_rate: 0.0010\n",
      "Epoch 28/100\n",
      "\u001b[1m16/16\u001b[0m \u001b[32m━━━━━━━━━━━━━━━━━━━━\u001b[0m\u001b[37m\u001b[0m \u001b[1m0s\u001b[0m 4ms/step - accuracy: 0.6673 - auc: 0.7267 - loss: 0.5973 - val_accuracy: 0.6355 - val_auc: 0.7024 - val_loss: 0.6258 - learning_rate: 0.0010\n",
      "Epoch 29/100\n",
      "\u001b[1m16/16\u001b[0m \u001b[32m━━━━━━━━━━━━━━━━━━━━\u001b[0m\u001b[37m\u001b[0m \u001b[1m0s\u001b[0m 5ms/step - accuracy: 0.6713 - auc: 0.7292 - loss: 0.5961 - val_accuracy: 0.6262 - val_auc: 0.7042 - val_loss: 0.6228 - learning_rate: 0.0010\n",
      "Epoch 30/100\n",
      "\u001b[1m16/16\u001b[0m \u001b[32m━━━━━━━━━━━━━━━━━━━━\u001b[0m\u001b[37m\u001b[0m \u001b[1m0s\u001b[0m 5ms/step - accuracy: 0.6754 - auc: 0.7324 - loss: 0.5979 - val_accuracy: 0.6355 - val_auc: 0.7055 - val_loss: 0.6233 - learning_rate: 0.0010\n",
      "Epoch 31/100\n",
      "\u001b[1m16/16\u001b[0m \u001b[32m━━━━━━━━━━━━━━━━━━━━\u001b[0m\u001b[37m\u001b[0m \u001b[1m0s\u001b[0m 5ms/step - accuracy: 0.6874 - auc: 0.7278 - loss: 0.5979 - val_accuracy: 0.6262 - val_auc: 0.7051 - val_loss: 0.6196 - learning_rate: 0.0010\n",
      "Epoch 32/100\n",
      "\u001b[1m16/16\u001b[0m \u001b[32m━━━━━━━━━━━━━━━━━━━━\u001b[0m\u001b[37m\u001b[0m \u001b[1m0s\u001b[0m 4ms/step - accuracy: 0.6713 - auc: 0.7266 - loss: 0.5974 - val_accuracy: 0.6168 - val_auc: 0.7068 - val_loss: 0.6201 - learning_rate: 0.0010\n",
      "Epoch 33/100\n",
      "\u001b[1m16/16\u001b[0m \u001b[32m━━━━━━━━━━━━━━━━━━━━\u001b[0m\u001b[37m\u001b[0m \u001b[1m0s\u001b[0m 5ms/step - accuracy: 0.6673 - auc: 0.7234 - loss: 0.5997 - val_accuracy: 0.6168 - val_auc: 0.7064 - val_loss: 0.6175 - learning_rate: 0.0010\n",
      "Epoch 34/100\n",
      "\u001b[1m16/16\u001b[0m \u001b[32m━━━━━━━━━━━━━━━━━━━━\u001b[0m\u001b[37m\u001b[0m \u001b[1m0s\u001b[0m 5ms/step - accuracy: 0.6814 - auc: 0.7353 - loss: 0.5930 - val_accuracy: 0.6168 - val_auc: 0.7062 - val_loss: 0.6172 - learning_rate: 0.0010\n",
      "Epoch 35/100\n",
      "\u001b[1m16/16\u001b[0m \u001b[32m━━━━━━━━━━━━━━━━━━━━\u001b[0m\u001b[37m\u001b[0m \u001b[1m0s\u001b[0m 4ms/step - accuracy: 0.6733 - auc: 0.7358 - loss: 0.5916 - val_accuracy: 0.6262 - val_auc: 0.7080 - val_loss: 0.6188 - learning_rate: 0.0010\n",
      "Epoch 36/100\n",
      "\u001b[1m16/16\u001b[0m \u001b[32m━━━━━━━━━━━━━━━━━━━━\u001b[0m\u001b[37m\u001b[0m \u001b[1m0s\u001b[0m 5ms/step - accuracy: 0.6713 - auc: 0.7322 - loss: 0.5933 - val_accuracy: 0.6168 - val_auc: 0.7086 - val_loss: 0.6166 - learning_rate: 0.0010\n",
      "Epoch 37/100\n",
      "\u001b[1m16/16\u001b[0m \u001b[32m━━━━━━━━━━━━━━━━━━━━\u001b[0m\u001b[37m\u001b[0m \u001b[1m0s\u001b[0m 5ms/step - accuracy: 0.6854 - auc: 0.7321 - loss: 0.5946 - val_accuracy: 0.6262 - val_auc: 0.7082 - val_loss: 0.6161 - learning_rate: 0.0010\n",
      "Epoch 38/100\n",
      "\u001b[1m16/16\u001b[0m \u001b[32m━━━━━━━━━━━━━━━━━━━━\u001b[0m\u001b[37m\u001b[0m \u001b[1m0s\u001b[0m 9ms/step - accuracy: 0.6733 - auc: 0.7390 - loss: 0.5871 - val_accuracy: 0.6168 - val_auc: 0.7082 - val_loss: 0.6150 - learning_rate: 0.0010\n",
      "Epoch 39/100\n",
      "\u001b[1m16/16\u001b[0m \u001b[32m━━━━━━━━━━━━━━━━━━━━\u001b[0m\u001b[37m\u001b[0m \u001b[1m0s\u001b[0m 5ms/step - accuracy: 0.6673 - auc: 0.7305 - loss: 0.5921 - val_accuracy: 0.6075 - val_auc: 0.7088 - val_loss: 0.6135 - learning_rate: 0.0010\n",
      "Epoch 40/100\n",
      "\u001b[1m16/16\u001b[0m \u001b[32m━━━━━━━━━━━━━━━━━━━━\u001b[0m\u001b[37m\u001b[0m \u001b[1m0s\u001b[0m 5ms/step - accuracy: 0.6774 - auc: 0.7392 - loss: 0.5897 - val_accuracy: 0.6075 - val_auc: 0.7077 - val_loss: 0.6140 - learning_rate: 0.0010\n",
      "Epoch 41/100\n",
      "\u001b[1m16/16\u001b[0m \u001b[32m━━━━━━━━━━━━━━━━━━━━\u001b[0m\u001b[37m\u001b[0m \u001b[1m0s\u001b[0m 5ms/step - accuracy: 0.6854 - auc: 0.7362 - loss: 0.5902 - val_accuracy: 0.6262 - val_auc: 0.7093 - val_loss: 0.6119 - learning_rate: 0.0010\n",
      "Epoch 42/100\n",
      "\u001b[1m16/16\u001b[0m \u001b[32m━━━━━━━━━━━━━━━━━━━━\u001b[0m\u001b[37m\u001b[0m \u001b[1m0s\u001b[0m 5ms/step - accuracy: 0.6713 - auc: 0.7271 - loss: 0.5953 - val_accuracy: 0.6168 - val_auc: 0.7108 - val_loss: 0.6127 - learning_rate: 0.0010\n",
      "Epoch 43/100\n",
      "\u001b[1m16/16\u001b[0m \u001b[32m━━━━━━━━━━━━━━━━━━━━\u001b[0m\u001b[37m\u001b[0m \u001b[1m0s\u001b[0m 5ms/step - accuracy: 0.6794 - auc: 0.7329 - loss: 0.5931 - val_accuracy: 0.6262 - val_auc: 0.7100 - val_loss: 0.6099 - learning_rate: 0.0010\n",
      "Epoch 44/100\n",
      "\u001b[1m16/16\u001b[0m \u001b[32m━━━━━━━━━━━━━━━━━━━━\u001b[0m\u001b[37m\u001b[0m \u001b[1m0s\u001b[0m 5ms/step - accuracy: 0.6693 - auc: 0.7341 - loss: 0.5898 - val_accuracy: 0.6262 - val_auc: 0.7120 - val_loss: 0.6109 - learning_rate: 0.0010\n",
      "Epoch 45/100\n",
      "\u001b[1m16/16\u001b[0m \u001b[32m━━━━━━━━━━━━━━━━━━━━\u001b[0m\u001b[37m\u001b[0m \u001b[1m0s\u001b[0m 5ms/step - accuracy: 0.6774 - auc: 0.7428 - loss: 0.5831 - val_accuracy: 0.6355 - val_auc: 0.7131 - val_loss: 0.6099 - learning_rate: 0.0010\n",
      "Epoch 46/100\n",
      "\u001b[1m16/16\u001b[0m \u001b[32m━━━━━━━━━━━━━━━━━━━━\u001b[0m\u001b[37m\u001b[0m \u001b[1m0s\u001b[0m 4ms/step - accuracy: 0.6754 - auc: 0.7396 - loss: 0.5864 - val_accuracy: 0.6449 - val_auc: 0.7118 - val_loss: 0.6105 - learning_rate: 0.0010\n",
      "Epoch 47/100\n",
      "\u001b[1m16/16\u001b[0m \u001b[32m━━━━━━━━━━━━━━━━━━━━\u001b[0m\u001b[37m\u001b[0m \u001b[1m0s\u001b[0m 4ms/step - accuracy: 0.6794 - auc: 0.7404 - loss: 0.5849 - val_accuracy: 0.6262 - val_auc: 0.7117 - val_loss: 0.6070 - learning_rate: 0.0010\n",
      "Epoch 48/100\n",
      "\u001b[1m16/16\u001b[0m \u001b[32m━━━━━━━━━━━━━━━━━━━━\u001b[0m\u001b[37m\u001b[0m \u001b[1m0s\u001b[0m 4ms/step - accuracy: 0.6834 - auc: 0.7409 - loss: 0.5865 - val_accuracy: 0.6262 - val_auc: 0.7137 - val_loss: 0.6063 - learning_rate: 0.0010\n",
      "Epoch 49/100\n",
      "\u001b[1m16/16\u001b[0m \u001b[32m━━━━━━━━━━━━━━━━━━━━\u001b[0m\u001b[37m\u001b[0m \u001b[1m0s\u001b[0m 4ms/step - accuracy: 0.6774 - auc: 0.7351 - loss: 0.5902 - val_accuracy: 0.6542 - val_auc: 0.7144 - val_loss: 0.6091 - learning_rate: 0.0010\n",
      "Epoch 50/100\n",
      "\u001b[1m16/16\u001b[0m \u001b[32m━━━━━━━━━━━━━━━━━━━━\u001b[0m\u001b[37m\u001b[0m \u001b[1m0s\u001b[0m 5ms/step - accuracy: 0.6834 - auc: 0.7448 - loss: 0.5821 - val_accuracy: 0.6542 - val_auc: 0.7144 - val_loss: 0.6062 - learning_rate: 0.0010\n",
      "Epoch 51/100\n",
      "\u001b[1m16/16\u001b[0m \u001b[32m━━━━━━━━━━━━━━━━━━━━\u001b[0m\u001b[37m\u001b[0m \u001b[1m0s\u001b[0m 5ms/step - accuracy: 0.6713 - auc: 0.7352 - loss: 0.5888 - val_accuracy: 0.6355 - val_auc: 0.7149 - val_loss: 0.6044 - learning_rate: 0.0010\n",
      "Epoch 52/100\n",
      "\u001b[1m16/16\u001b[0m \u001b[32m━━━━━━━━━━━━━━━━━━━━\u001b[0m\u001b[37m\u001b[0m \u001b[1m0s\u001b[0m 4ms/step - accuracy: 0.6814 - auc: 0.7394 - loss: 0.5855 - val_accuracy: 0.6542 - val_auc: 0.7155 - val_loss: 0.6057 - learning_rate: 0.0010\n",
      "Epoch 53/100\n",
      "\u001b[1m16/16\u001b[0m \u001b[32m━━━━━━━━━━━━━━━━━━━━\u001b[0m\u001b[37m\u001b[0m \u001b[1m0s\u001b[0m 4ms/step - accuracy: 0.6733 - auc: 0.7379 - loss: 0.5868 - val_accuracy: 0.6542 - val_auc: 0.7155 - val_loss: 0.6025 - learning_rate: 0.0010\n",
      "Epoch 54/100\n",
      "\u001b[1m16/16\u001b[0m \u001b[32m━━━━━━━━━━━━━━━━━━━━\u001b[0m\u001b[37m\u001b[0m \u001b[1m0s\u001b[0m 4ms/step - accuracy: 0.6794 - auc: 0.7387 - loss: 0.5867 - val_accuracy: 0.6542 - val_auc: 0.7155 - val_loss: 0.6021 - learning_rate: 0.0010\n",
      "Epoch 55/100\n",
      "\u001b[1m16/16\u001b[0m \u001b[32m━━━━━━━━━━━━━━━━━━━━\u001b[0m\u001b[37m\u001b[0m \u001b[1m0s\u001b[0m 5ms/step - accuracy: 0.6874 - auc: 0.7416 - loss: 0.5852 - val_accuracy: 0.6542 - val_auc: 0.7169 - val_loss: 0.6033 - learning_rate: 0.0010\n",
      "Epoch 56/100\n",
      "\u001b[1m16/16\u001b[0m \u001b[32m━━━━━━━━━━━━━━━━━━━━\u001b[0m\u001b[37m\u001b[0m \u001b[1m0s\u001b[0m 5ms/step - accuracy: 0.6754 - auc: 0.7300 - loss: 0.5912 - val_accuracy: 0.6542 - val_auc: 0.7166 - val_loss: 0.6020 - learning_rate: 0.0010\n",
      "Epoch 57/100\n",
      "\u001b[1m16/16\u001b[0m \u001b[32m━━━━━━━━━━━━━━━━━━━━\u001b[0m\u001b[37m\u001b[0m \u001b[1m0s\u001b[0m 4ms/step - accuracy: 0.6894 - auc: 0.7401 - loss: 0.5876 - val_accuracy: 0.6542 - val_auc: 0.7168 - val_loss: 0.6005 - learning_rate: 0.0010\n",
      "Epoch 58/100\n",
      "\u001b[1m16/16\u001b[0m \u001b[32m━━━━━━━━━━━━━━━━━━━━\u001b[0m\u001b[37m\u001b[0m \u001b[1m0s\u001b[0m 5ms/step - accuracy: 0.6733 - auc: 0.7392 - loss: 0.5841 - val_accuracy: 0.6542 - val_auc: 0.7169 - val_loss: 0.6007 - learning_rate: 0.0010\n",
      "Epoch 59/100\n",
      "\u001b[1m16/16\u001b[0m \u001b[32m━━━━━━━━━━━━━━━━━━━━\u001b[0m\u001b[37m\u001b[0m \u001b[1m0s\u001b[0m 5ms/step - accuracy: 0.6854 - auc: 0.7388 - loss: 0.5853 - val_accuracy: 0.6542 - val_auc: 0.7177 - val_loss: 0.5977 - learning_rate: 0.0010\n",
      "Epoch 60/100\n",
      "\u001b[1m16/16\u001b[0m \u001b[32m━━━━━━━━━━━━━━━━━━━━\u001b[0m\u001b[37m\u001b[0m \u001b[1m0s\u001b[0m 5ms/step - accuracy: 0.6794 - auc: 0.7442 - loss: 0.5812 - val_accuracy: 0.6542 - val_auc: 0.7182 - val_loss: 0.5982 - learning_rate: 0.0010\n",
      "Epoch 61/100\n",
      "\u001b[1m16/16\u001b[0m \u001b[32m━━━━━━━━━━━━━━━━━━━━\u001b[0m\u001b[37m\u001b[0m \u001b[1m0s\u001b[0m 5ms/step - accuracy: 0.6834 - auc: 0.7429 - loss: 0.5841 - val_accuracy: 0.6449 - val_auc: 0.7188 - val_loss: 0.5964 - learning_rate: 0.0010\n",
      "Epoch 62/100\n",
      "\u001b[1m16/16\u001b[0m \u001b[32m━━━━━━━━━━━━━━━━━━━━\u001b[0m\u001b[37m\u001b[0m \u001b[1m0s\u001b[0m 4ms/step - accuracy: 0.6774 - auc: 0.7525 - loss: 0.5727 - val_accuracy: 0.6542 - val_auc: 0.7178 - val_loss: 0.5993 - learning_rate: 0.0010\n",
      "Epoch 63/100\n",
      "\u001b[1m16/16\u001b[0m \u001b[32m━━━━━━━━━━━━━━━━━━━━\u001b[0m\u001b[37m\u001b[0m \u001b[1m0s\u001b[0m 5ms/step - accuracy: 0.6854 - auc: 0.7389 - loss: 0.5860 - val_accuracy: 0.6449 - val_auc: 0.7175 - val_loss: 0.5956 - learning_rate: 0.0010\n",
      "Epoch 64/100\n",
      "\u001b[1m16/16\u001b[0m \u001b[32m━━━━━━━━━━━━━━━━━━━━\u001b[0m\u001b[37m\u001b[0m \u001b[1m0s\u001b[0m 5ms/step - accuracy: 0.6934 - auc: 0.7477 - loss: 0.5786 - val_accuracy: 0.6542 - val_auc: 0.7178 - val_loss: 0.5970 - learning_rate: 0.0010\n",
      "Epoch 65/100\n",
      "\u001b[1m16/16\u001b[0m \u001b[32m━━━━━━━━━━━━━━━━━━━━\u001b[0m\u001b[37m\u001b[0m \u001b[1m0s\u001b[0m 5ms/step - accuracy: 0.6934 - auc: 0.7434 - loss: 0.5835 - val_accuracy: 0.6542 - val_auc: 0.7178 - val_loss: 0.5946 - learning_rate: 0.0010\n",
      "Epoch 66/100\n",
      "\u001b[1m16/16\u001b[0m \u001b[32m━━━━━━━━━━━━━━━━━━━━\u001b[0m\u001b[37m\u001b[0m \u001b[1m0s\u001b[0m 5ms/step - accuracy: 0.6693 - auc: 0.7417 - loss: 0.5821 - val_accuracy: 0.6542 - val_auc: 0.7200 - val_loss: 0.5972 - learning_rate: 0.0010\n",
      "Epoch 67/100\n",
      "\u001b[1m16/16\u001b[0m \u001b[32m━━━━━━━━━━━━━━━━━━━━\u001b[0m\u001b[37m\u001b[0m \u001b[1m0s\u001b[0m 5ms/step - accuracy: 0.6774 - auc: 0.7472 - loss: 0.5778 - val_accuracy: 0.6542 - val_auc: 0.7213 - val_loss: 0.5956 - learning_rate: 0.0010\n",
      "Epoch 68/100\n",
      "\u001b[1m16/16\u001b[0m \u001b[32m━━━━━━━━━━━━━━━━━━━━\u001b[0m\u001b[37m\u001b[0m \u001b[1m0s\u001b[0m 5ms/step - accuracy: 0.6774 - auc: 0.7452 - loss: 0.5786 - val_accuracy: 0.6542 - val_auc: 0.7204 - val_loss: 0.5922 - learning_rate: 0.0010\n",
      "Epoch 69/100\n",
      "\u001b[1m16/16\u001b[0m \u001b[32m━━━━━━━━━━━━━━━━━━━━\u001b[0m\u001b[37m\u001b[0m \u001b[1m0s\u001b[0m 5ms/step - accuracy: 0.6774 - auc: 0.7430 - loss: 0.5844 - val_accuracy: 0.6542 - val_auc: 0.7206 - val_loss: 0.5927 - learning_rate: 0.0010\n",
      "Epoch 70/100\n",
      "\u001b[1m16/16\u001b[0m \u001b[32m━━━━━━━━━━━━━━━━━━━━\u001b[0m\u001b[37m\u001b[0m \u001b[1m0s\u001b[0m 5ms/step - accuracy: 0.6874 - auc: 0.7486 - loss: 0.5750 - val_accuracy: 0.6542 - val_auc: 0.7227 - val_loss: 0.5933 - learning_rate: 0.0010\n",
      "Epoch 71/100\n",
      "\u001b[1m16/16\u001b[0m \u001b[32m━━━━━━━━━━━━━━━━━━━━\u001b[0m\u001b[37m\u001b[0m \u001b[1m0s\u001b[0m 6ms/step - accuracy: 0.6934 - auc: 0.7444 - loss: 0.5802 - val_accuracy: 0.6542 - val_auc: 0.7206 - val_loss: 0.5899 - learning_rate: 0.0010\n",
      "Epoch 72/100\n",
      "\u001b[1m16/16\u001b[0m \u001b[32m━━━━━━━━━━━━━━━━━━━━\u001b[0m\u001b[37m\u001b[0m \u001b[1m0s\u001b[0m 4ms/step - accuracy: 0.6774 - auc: 0.7485 - loss: 0.5769 - val_accuracy: 0.6636 - val_auc: 0.7231 - val_loss: 0.5928 - learning_rate: 0.0010\n",
      "Epoch 73/100\n",
      "\u001b[1m16/16\u001b[0m \u001b[32m━━━━━━━━━━━━━━━━━━━━\u001b[0m\u001b[37m\u001b[0m \u001b[1m0s\u001b[0m 5ms/step - accuracy: 0.6934 - auc: 0.7524 - loss: 0.5750 - val_accuracy: 0.6542 - val_auc: 0.7213 - val_loss: 0.5893 - learning_rate: 0.0010\n",
      "Epoch 74/100\n",
      "\u001b[1m16/16\u001b[0m \u001b[32m━━━━━━━━━━━━━━━━━━━━\u001b[0m\u001b[37m\u001b[0m \u001b[1m0s\u001b[0m 5ms/step - accuracy: 0.6954 - auc: 0.7384 - loss: 0.5859 - val_accuracy: 0.6542 - val_auc: 0.7226 - val_loss: 0.5891 - learning_rate: 0.0010\n",
      "Epoch 75/100\n",
      "\u001b[1m16/16\u001b[0m \u001b[32m━━━━━━━━━━━━━━━━━━━━\u001b[0m\u001b[37m\u001b[0m \u001b[1m0s\u001b[0m 5ms/step - accuracy: 0.7114 - auc: 0.7444 - loss: 0.5807 - val_accuracy: 0.6542 - val_auc: 0.7227 - val_loss: 0.5893 - learning_rate: 0.0010\n",
      "Epoch 76/100\n",
      "\u001b[1m16/16\u001b[0m \u001b[32m━━━━━━━━━━━━━━━━━━━━\u001b[0m\u001b[37m\u001b[0m \u001b[1m0s\u001b[0m 5ms/step - accuracy: 0.6854 - auc: 0.7471 - loss: 0.5801 - val_accuracy: 0.6542 - val_auc: 0.7242 - val_loss: 0.5889 - learning_rate: 0.0010\n",
      "Epoch 77/100\n",
      "\u001b[1m16/16\u001b[0m \u001b[32m━━━━━━━━━━━━━━━━━━━━\u001b[0m\u001b[37m\u001b[0m \u001b[1m0s\u001b[0m 5ms/step - accuracy: 0.6834 - auc: 0.7563 - loss: 0.5723 - val_accuracy: 0.6542 - val_auc: 0.7233 - val_loss: 0.5876 - learning_rate: 0.0010\n",
      "Epoch 78/100\n",
      "\u001b[1m16/16\u001b[0m \u001b[32m━━━━━━━━━━━━━━━━━━━━\u001b[0m\u001b[37m\u001b[0m \u001b[1m0s\u001b[0m 5ms/step - accuracy: 0.6854 - auc: 0.7435 - loss: 0.5797 - val_accuracy: 0.6636 - val_auc: 0.7240 - val_loss: 0.5884 - learning_rate: 0.0010\n",
      "Epoch 79/100\n",
      "\u001b[1m16/16\u001b[0m \u001b[32m━━━━━━━━━━━━━━━━━━━━\u001b[0m\u001b[37m\u001b[0m \u001b[1m0s\u001b[0m 5ms/step - accuracy: 0.6894 - auc: 0.7408 - loss: 0.5834 - val_accuracy: 0.6636 - val_auc: 0.7257 - val_loss: 0.5872 - learning_rate: 0.0010\n",
      "Epoch 80/100\n",
      "\u001b[1m16/16\u001b[0m \u001b[32m━━━━━━━━━━━━━━━━━━━━\u001b[0m\u001b[37m\u001b[0m \u001b[1m0s\u001b[0m 5ms/step - accuracy: 0.6794 - auc: 0.7473 - loss: 0.5806 - val_accuracy: 0.6636 - val_auc: 0.7255 - val_loss: 0.5872 - learning_rate: 0.0010\n",
      "Epoch 81/100\n",
      "\u001b[1m16/16\u001b[0m \u001b[32m━━━━━━━━━━━━━━━━━━━━\u001b[0m\u001b[37m\u001b[0m \u001b[1m0s\u001b[0m 5ms/step - accuracy: 0.6854 - auc: 0.7516 - loss: 0.5740 - val_accuracy: 0.6729 - val_auc: 0.7266 - val_loss: 0.5848 - learning_rate: 0.0010\n",
      "Epoch 82/100\n",
      "\u001b[1m16/16\u001b[0m \u001b[32m━━━━━━━━━━━━━━━━━━━━\u001b[0m\u001b[37m\u001b[0m \u001b[1m0s\u001b[0m 5ms/step - accuracy: 0.6794 - auc: 0.7491 - loss: 0.5773 - val_accuracy: 0.6729 - val_auc: 0.7273 - val_loss: 0.5863 - learning_rate: 0.0010\n",
      "Epoch 83/100\n",
      "\u001b[1m16/16\u001b[0m \u001b[32m━━━━━━━━━━━━━━━━━━━━\u001b[0m\u001b[37m\u001b[0m \u001b[1m0s\u001b[0m 7ms/step - accuracy: 0.6934 - auc: 0.7537 - loss: 0.5735 - val_accuracy: 0.6636 - val_auc: 0.7260 - val_loss: 0.5869 - learning_rate: 0.0010\n",
      "Epoch 84/100\n",
      "\u001b[1m16/16\u001b[0m \u001b[32m━━━━━━━━━━━━━━━━━━━━\u001b[0m\u001b[37m\u001b[0m \u001b[1m0s\u001b[0m 6ms/step - accuracy: 0.6874 - auc: 0.7482 - loss: 0.5774 - val_accuracy: 0.6822 - val_auc: 0.7267 - val_loss: 0.5850 - learning_rate: 0.0010\n",
      "Epoch 85/100\n",
      "\u001b[1m16/16\u001b[0m \u001b[32m━━━━━━━━━━━━━━━━━━━━\u001b[0m\u001b[37m\u001b[0m \u001b[1m0s\u001b[0m 5ms/step - accuracy: 0.6874 - auc: 0.7420 - loss: 0.5795 - val_accuracy: 0.6822 - val_auc: 0.7267 - val_loss: 0.5835 - learning_rate: 0.0010\n",
      "Epoch 86/100\n",
      "\u001b[1m16/16\u001b[0m \u001b[32m━━━━━━━━━━━━━━━━━━━━\u001b[0m\u001b[37m\u001b[0m \u001b[1m0s\u001b[0m 5ms/step - accuracy: 0.6894 - auc: 0.7578 - loss: 0.5699 - val_accuracy: 0.6822 - val_auc: 0.7273 - val_loss: 0.5851 - learning_rate: 0.0010\n",
      "Epoch 87/100\n",
      "\u001b[1m16/16\u001b[0m \u001b[32m━━━━━━━━━━━━━━━━━━━━\u001b[0m\u001b[37m\u001b[0m \u001b[1m0s\u001b[0m 5ms/step - accuracy: 0.6954 - auc: 0.7537 - loss: 0.5725 - val_accuracy: 0.6916 - val_auc: 0.7280 - val_loss: 0.5847 - learning_rate: 0.0010\n",
      "Epoch 88/100\n",
      "\u001b[1m16/16\u001b[0m \u001b[32m━━━━━━━━━━━━━━━━━━━━\u001b[0m\u001b[37m\u001b[0m \u001b[1m0s\u001b[0m 5ms/step - accuracy: 0.6954 - auc: 0.7556 - loss: 0.5690 - val_accuracy: 0.7009 - val_auc: 0.7289 - val_loss: 0.5831 - learning_rate: 0.0010\n",
      "Epoch 89/100\n",
      "\u001b[1m16/16\u001b[0m \u001b[32m━━━━━━━━━━━━━━━━━━━━\u001b[0m\u001b[37m\u001b[0m \u001b[1m0s\u001b[0m 5ms/step - accuracy: 0.6914 - auc: 0.7383 - loss: 0.5861 - val_accuracy: 0.6916 - val_auc: 0.7295 - val_loss: 0.5838 - learning_rate: 0.0010\n",
      "Epoch 90/100\n",
      "\u001b[1m16/16\u001b[0m \u001b[32m━━━━━━━━━━━━━━━━━━━━\u001b[0m\u001b[37m\u001b[0m \u001b[1m0s\u001b[0m 5ms/step - accuracy: 0.6974 - auc: 0.7444 - loss: 0.5804 - val_accuracy: 0.6916 - val_auc: 0.7284 - val_loss: 0.5839 - learning_rate: 0.0010\n",
      "Epoch 91/100\n",
      "\u001b[1m16/16\u001b[0m \u001b[32m━━━━━━━━━━━━━━━━━━━━\u001b[0m\u001b[37m\u001b[0m \u001b[1m0s\u001b[0m 5ms/step - accuracy: 0.6994 - auc: 0.7461 - loss: 0.5779 - val_accuracy: 0.6916 - val_auc: 0.7293 - val_loss: 0.5821 - learning_rate: 0.0010\n",
      "Epoch 92/100\n",
      "\u001b[1m16/16\u001b[0m \u001b[32m━━━━━━━━━━━━━━━━━━━━\u001b[0m\u001b[37m\u001b[0m \u001b[1m0s\u001b[0m 5ms/step - accuracy: 0.6854 - auc: 0.7434 - loss: 0.5811 - val_accuracy: 0.6916 - val_auc: 0.7295 - val_loss: 0.5823 - learning_rate: 0.0010\n",
      "Epoch 93/100\n",
      "\u001b[1m16/16\u001b[0m \u001b[32m━━━━━━━━━━━━━━━━━━━━\u001b[0m\u001b[37m\u001b[0m \u001b[1m0s\u001b[0m 5ms/step - accuracy: 0.6934 - auc: 0.7537 - loss: 0.5745 - val_accuracy: 0.6916 - val_auc: 0.7300 - val_loss: 0.5831 - learning_rate: 0.0010\n",
      "Epoch 94/100\n",
      "\u001b[1m16/16\u001b[0m \u001b[32m━━━━━━━━━━━━━━━━━━━━\u001b[0m\u001b[37m\u001b[0m \u001b[1m0s\u001b[0m 5ms/step - accuracy: 0.6834 - auc: 0.7528 - loss: 0.5736 - val_accuracy: 0.7009 - val_auc: 0.7300 - val_loss: 0.5828 - learning_rate: 0.0010\n",
      "Epoch 95/100\n",
      "\u001b[1m16/16\u001b[0m \u001b[32m━━━━━━━━━━━━━━━━━━━━\u001b[0m\u001b[37m\u001b[0m \u001b[1m0s\u001b[0m 5ms/step - accuracy: 0.6954 - auc: 0.7560 - loss: 0.5690 - val_accuracy: 0.6916 - val_auc: 0.7302 - val_loss: 0.5811 - learning_rate: 0.0010\n",
      "Epoch 96/100\n",
      "\u001b[1m16/16\u001b[0m \u001b[32m━━━━━━━━━━━━━━━━━━━━\u001b[0m\u001b[37m\u001b[0m \u001b[1m0s\u001b[0m 5ms/step - accuracy: 0.6974 - auc: 0.7517 - loss: 0.5711 - val_accuracy: 0.7103 - val_auc: 0.7318 - val_loss: 0.5812 - learning_rate: 0.0010\n",
      "Epoch 97/100\n",
      "\u001b[1m16/16\u001b[0m \u001b[32m━━━━━━━━━━━━━━━━━━━━\u001b[0m\u001b[37m\u001b[0m \u001b[1m0s\u001b[0m 5ms/step - accuracy: 0.6874 - auc: 0.7530 - loss: 0.5739 - val_accuracy: 0.6916 - val_auc: 0.7313 - val_loss: 0.5797 - learning_rate: 0.0010\n",
      "Epoch 98/100\n",
      "\u001b[1m16/16\u001b[0m \u001b[32m━━━━━━━━━━━━━━━━━━━━\u001b[0m\u001b[37m\u001b[0m \u001b[1m0s\u001b[0m 5ms/step - accuracy: 0.6854 - auc: 0.7422 - loss: 0.5815 - val_accuracy: 0.7009 - val_auc: 0.7316 - val_loss: 0.5793 - learning_rate: 0.0010\n",
      "Epoch 99/100\n",
      "\u001b[1m16/16\u001b[0m \u001b[32m━━━━━━━━━━━━━━━━━━━━\u001b[0m\u001b[37m\u001b[0m \u001b[1m0s\u001b[0m 5ms/step - accuracy: 0.6934 - auc: 0.7525 - loss: 0.5732 - val_accuracy: 0.6916 - val_auc: 0.7320 - val_loss: 0.5793 - learning_rate: 0.0010\n",
      "Epoch 100/100\n",
      "\u001b[1m16/16\u001b[0m \u001b[32m━━━━━━━━━━━━━━━━━━━━\u001b[0m\u001b[37m\u001b[0m \u001b[1m0s\u001b[0m 5ms/step - accuracy: 0.6934 - auc: 0.7563 - loss: 0.5691 - val_accuracy: 0.6916 - val_auc: 0.7304 - val_loss: 0.5808 - learning_rate: 0.0010\n"
     ]
    }
   ],
   "source": [
    "# 5. Build LSTM model\n",
    "import tensorflow as tf\n",
    "from tensorflow import keras\n",
    "from tensorflow.keras import layers\n",
    "\n",
    "tf.keras.backend.clear_session()\n",
    "\n",
    "model_lstm = keras.Sequential([\n",
    "    layers.LSTM(32, input_shape=(X_train_lstm.shape[1], 1)),\n",
    "    layers.Dropout(0.3),\n",
    "    layers.Dense(16, activation=\"relu\"),\n",
    "    layers.Dense(1, activation=\"sigmoid\")   # binary classification\n",
    "])\n",
    "\n",
    "model_lstm.compile(\n",
    "    optimizer=\"adam\",\n",
    "    loss=\"binary_crossentropy\",\n",
    "    metrics=[\"accuracy\", keras.metrics.AUC(name=\"auc\")]\n",
    ")\n",
    "\n",
    "model_lstm.summary()\n",
    "\n",
    "# 6. Train model\n",
    "callbacks = [\n",
    "    keras.callbacks.EarlyStopping(monitor=\"val_loss\", patience=10, restore_best_weights=True),\n",
    "    keras.callbacks.ReduceLROnPlateau(monitor=\"val_loss\", factor=0.5, patience=5)\n",
    "]\n",
    "\n",
    "history = model_lstm.fit(\n",
    "    X_train_lstm, y_train,\n",
    "    validation_data=(X_val_lstm, y_val),\n",
    "    epochs=100,\n",
    "    batch_size=32,\n",
    "    callbacks=callbacks,\n",
    "    verbose=1\n",
    ")\n"
   ]
  },
  {
   "cell_type": "markdown",
   "id": "a20ddc7a-45e2-4031-bcc6-50c282afcf4c",
   "metadata": {},
   "source": [
    "This block builds and trains an LSTM model where each passenger’s five features are fed as a short sequence, with a 32-unit LSTM layer followed by dropout and dense layers for binary survival prediction. The model is compiled with Adam, binary cross-entropy, and accuracy/AUC metrics, then trained for up to 100 epochs with early stopping and learning rate reduction to prevent overfitting and stabilize learning."
   ]
  },
  {
   "cell_type": "code",
   "execution_count": 372,
   "id": "d54596da-252b-4231-aa05-68aec0c02d52",
   "metadata": {},
   "outputs": [
    {
     "name": "stdout",
     "output_type": "stream",
     "text": [
      "LSTM Test Accuracy: 0.6481, AUC: 0.7299, Loss: 0.5947\n",
      "\u001b[1m4/4\u001b[0m \u001b[32m━━━━━━━━━━━━━━━━━━━━\u001b[0m\u001b[37m\u001b[0m \u001b[1m0s\u001b[0m 5ms/step \n",
      "Confusion Matrix:\n",
      " [[47 17]\n",
      " [21 23]]\n",
      "\n",
      "Classification Report:\n",
      "               precision    recall  f1-score   support\n",
      "\n",
      "         0.0       0.69      0.73      0.71        64\n",
      "         1.0       0.57      0.52      0.55        44\n",
      "\n",
      "    accuracy                           0.65       108\n",
      "   macro avg       0.63      0.63      0.63       108\n",
      "weighted avg       0.64      0.65      0.65       108\n",
      "\n"
     ]
    }
   ],
   "source": [
    "# 7. Evaluate on test set\n",
    "loss, acc, auc = model_lstm.evaluate(X_test_lstm, y_test, verbose=0)\n",
    "print(f\"LSTM Test Accuracy: {acc:.4f}, AUC: {auc:.4f}, Loss: {loss:.4f}\")\n",
    "\n",
    "# 8. Predictions & classification report\n",
    "y_pred_probs = model_lstm.predict(X_test_lstm).ravel()\n",
    "y_pred = (y_pred_probs > 0.5).astype(int)\n",
    "\n",
    "from sklearn.metrics import classification_report, confusion_matrix\n",
    "print(\"Confusion Matrix:\\n\", confusion_matrix(y_test, y_pred))\n",
    "print(\"\\nClassification Report:\\n\", classification_report(y_test, y_pred))\n"
   ]
  },
  {
   "cell_type": "markdown",
   "id": "9856e667-f623-4074-89f0-9a88d25af575",
   "metadata": {},
   "source": [
    "This part tests the LSTM on data it hasn’t seen before to see how well it predicts survival. It shows the overall accuracy and how good the model is at separating survivors from non-survivors, then prints out how many people it got right or wrong and gives simple stats like precision and recall."
   ]
  },
  {
   "cell_type": "code",
   "execution_count": 348,
   "id": "b84714f7-1a8f-4e0a-b967-2ddedf794199",
   "metadata": {},
   "outputs": [
    {
     "data": {
      "image/png": "[encoded data removed]",
      "text/plain": [
       "<Figure size 1000x400 with 2 Axes>"
      ]
     },
     "metadata": {},
     "output_type": "display_data"
    }
   ],
   "source": [
    "import matplotlib.pyplot as plt\n",
    "\n",
    "plt.figure(figsize=(10,4))\n",
    "plt.subplot(1,2,1)\n",
    "plt.plot(history.history[\"loss\"], label=\"train\")\n",
    "plt.plot(history.history[\"val_loss\"], label=\"val\")\n",
    "plt.title(\"Loss over Epochs\")\n",
    "plt.legend()\n",
    "\n",
    "plt.subplot(1,2,2)\n",
    "plt.plot(history.history[\"accuracy\"], label=\"train\")\n",
    "plt.plot(history.history[\"val_accuracy\"], label=\"val\")\n",
    "plt.title(\"Accuracy over Epochs\")\n",
    "plt.legend()\n",
    "\n",
    "plt.tight_layout()\n",
    "plt.show()"
   ]
  },
  {
   "cell_type": "markdown",
   "id": "9cf2eb10-c6e1-47d0-93e0-7215b283fb05",
   "metadata": {},
   "source": [
    "The Loss over Epochs shows a steady decline for both training and validation, indicating the model is consistently learning without signs of overfitting.\n",
    "\n",
    "The Accuracy Over Epochs gradually improves for both training and validation, stabilizing around 70%, which reflects decent generalization on this dataset."
   ]
  },
  {
   "cell_type": "markdown",
   "id": "f331350c-854d-4bbe-9e01-e96be23b5d37",
   "metadata": {},
   "source": [
    "# End Assignmnet"
   ]
  }
 ],
 "metadata": {
  "kernelspec": {
   "display_name": "Python [conda env:base] *",
   "language": "python",
   "name": "conda-base-py"
  },
  "language_info": {
   "codemirror_mode": {
    "name": "ipython",
    "version": 3
   },
   "file_extension": ".py",
   "mimetype": "text/x-python",
   "name": "python",
   "nbconvert_exporter": "python",
   "pygments_lexer": "ipython3",
   "version": "3.12.3"
  }
 },
 "nbformat": 4,
 "nbformat_minor": 5
}
